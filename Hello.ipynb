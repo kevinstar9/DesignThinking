{
  "nbformat": 4,
  "nbformat_minor": 0,
  "metadata": {
    "colab": {
      "provenance": [],
      "authorship_tag": "ABX9TyO7LWBHTMFDqoKUN5qrx5jA",
      "include_colab_link": true
    },
    "kernelspec": {
      "name": "python3",
      "display_name": "Python 3"
    },
    "language_info": {
      "name": "python"
    },
    "accelerator": "GPU",
    "gpuClass": "standard"
  },
  "cells": [
    {
      "cell_type": "markdown",
      "metadata": {
        "id": "view-in-github",
        "colab_type": "text"
      },
      "source": [
        "<a href=\"https://colab.research.google.com/github/kevinstar9/DesignThinking/blob/main/Hello.ipynb\" target=\"_parent\"><img src=\"https://colab.research.google.com/assets/colab-badge.svg\" alt=\"Open In Colab\"/></a>"
      ]
    },
    {
      "cell_type": "markdown",
      "source": [
        "**시리즈**:1차원 배열의 값에 대응되는 인덱스 구조\n",
        "\n",
        "**데이터프레임**: 2차원 리스트 행방향 인덱스와 열방향 인덱스 존재, 값까지 3개의 구성요소 존재\n",
        "\n",
        "패널"
      ],
      "metadata": {
        "id": "2bOnU2HhY89j"
      }
    },
    {
      "cell_type": "code",
      "source": [
        "import pandas as pd\n",
        "\n",
        "data = [\n",
        "    ['1000', 'Steve','90.72'],\n",
        "    ['1001', 'James', '78.09'],\n",
        "    ['1002', 'Doyeon','98.43'],\n",
        "    ['1003', 'Jane', '64.19'],\n",
        "    ['1004', 'Pilwoong', '81.30'],\n",
        "    ['1005', 'Tony', '99.14']\n",
        "]\n",
        "\n",
        "df = pd.DataFrame(data)\n",
        "print(df)"
      ],
      "metadata": {
        "colab": {
          "base_uri": "https://localhost:8080/"
        },
        "id": "9ElmQ9zzKO_i",
        "outputId": "868c9c09-4eca-4450-a442-53052d8985a5"
      },
      "execution_count": 1,
      "outputs": [
        {
          "output_type": "stream",
          "name": "stdout",
          "text": [
            "      0         1      2\n",
            "0  1000     Steve  90.72\n",
            "1  1001     James  78.09\n",
            "2  1002    Doyeon  98.43\n",
            "3  1003      Jane  64.19\n",
            "4  1004  Pilwoong  81.30\n",
            "5  1005      Tony  99.14\n"
          ]
        }
      ]
    },
    {
      "cell_type": "code",
      "source": [
        "df = pd.DataFrame(data, columns = ['학번','이름','점수'])\n",
        "print(df)"
      ],
      "metadata": {
        "colab": {
          "base_uri": "https://localhost:8080/"
        },
        "id": "urVsAFTvLTPb",
        "outputId": "d4720ded-7233-4839-e4af-e253c995d999"
      },
      "execution_count": 2,
      "outputs": [
        {
          "output_type": "stream",
          "name": "stdout",
          "text": [
            "     학번        이름     점수\n",
            "0  1000     Steve  90.72\n",
            "1  1001     James  78.09\n",
            "2  1002    Doyeon  98.43\n",
            "3  1003      Jane  64.19\n",
            "4  1004  Pilwoong  81.30\n",
            "5  1005      Tony  99.14\n"
          ]
        }
      ]
    },
    {
      "cell_type": "code",
      "source": [
        "#data = {\n",
        "#    '학번' : ['1000', '1002', '1003', '1004','1005'],\n",
        "#    '이름' : ['Steve', 'James', 'Doyeon','Jane', 'Pilwoong', 'Tony'],\n",
        "#    '점수' : [90.72, 78.09, 98.43, 64.19, 81.30, 99.14]\n",
        "#}\n",
        "\n",
        "#df = pd.DataFrame(data)\n",
        "#print(df)"
      ],
      "metadata": {
        "id": "-jwmJX_KMGvn"
      },
      "execution_count": 3,
      "outputs": []
    },
    {
      "cell_type": "code",
      "source": [
        "#print(df.head(3))"
      ],
      "metadata": {
        "id": "kODcFOYkPsRs"
      },
      "execution_count": 4,
      "outputs": []
    },
    {
      "cell_type": "code",
      "source": [
        "#df.tail(3)"
      ],
      "metadata": {
        "id": "Xfartw_RQ7Dx"
      },
      "execution_count": 5,
      "outputs": []
    },
    {
      "cell_type": "code",
      "source": [
        "#df['학번']"
      ],
      "metadata": {
        "id": "U9OM0d0BQ_Zp"
      },
      "execution_count": 6,
      "outputs": []
    },
    {
      "cell_type": "code",
      "source": [
        "#print(df.index)"
      ],
      "metadata": {
        "id": "0xfzwhwd4xhf"
      },
      "execution_count": 7,
      "outputs": []
    },
    {
      "cell_type": "markdown",
      "source": [
        "**Numpy(넘파이):**\n",
        "수치 데이터를 다룸. \n",
        "\n",
        "다차원 행렬 구조인 ndarray를 통해 벡터 및 행렬을 사용하는 선형대수 계산에서 사용. \n",
        "\n",
        "편의성과 속도가 빠름."
      ],
      "metadata": {
        "id": "aZKG0GKy5Klj"
      }
    },
    {
      "cell_type": "code",
      "source": [
        "#import numpy as np\n",
        "\n",
        "# 1차원 배열\n",
        "#vec = np.array([1, 2, 3, 4, 5])\n",
        "#print(vec)"
      ],
      "metadata": {
        "id": "MZnLqlCn5Cyt"
      },
      "execution_count": 8,
      "outputs": []
    },
    {
      "cell_type": "code",
      "source": [
        "# 2차원 배열\n",
        "#mat = np.array([[10, 20, 30], [60, 70, 80]])\n",
        "#print(mat)"
      ],
      "metadata": {
        "id": "NXcMk-Zx6Muh"
      },
      "execution_count": 9,
      "outputs": []
    },
    {
      "cell_type": "code",
      "source": [
        "#print('vec의 타입 : ',type(vec))\n",
        "#print('mat의 타입 : ',type(mat))"
      ],
      "metadata": {
        "id": "27jnH3Cg6aWB"
      },
      "execution_count": 10,
      "outputs": []
    },
    {
      "cell_type": "markdown",
      "source": [
        "Numpy 배열에는 축의 개수(ndim)와 크기(shape)라는 개념이 존재. "
      ],
      "metadata": {
        "id": "VFcoX5eb7ebJ"
      }
    },
    {
      "cell_type": "code",
      "source": [
        "#print('vec의 축의 개수 : ', vec.ndim)\n",
        "#print('vec의 크기(shape) : ', vec.shape)\n",
        "#print('')\n",
        "#print('mat의 축의 개수 : ', mat.ndim)\n",
        "#print('mat의 크기(shape) :' ,mat.shape)"
      ],
      "metadata": {
        "id": "y1JFROAL6yS3"
      },
      "execution_count": 11,
      "outputs": []
    },
    {
      "cell_type": "markdown",
      "source": [
        "리스트 외 ndarray를 생성하는 방법."
      ],
      "metadata": {
        "id": "GZhdMTax-BBJ"
      }
    },
    {
      "cell_type": "code",
      "source": [
        "#import numpy as np\n",
        "#모든 값이 0인 2x3인 배열 생성.\n",
        "#zero_mat = np.zeros((2,3))\n",
        "#print(zero_mat)\n",
        "\n",
        "#print('')\n",
        "\n",
        "#one_mat=np.ones((2,3))\n",
        "#print(one_mat)\n",
        "\n",
        "#print('')\n",
        "\n",
        "#same_value_mat = np.full((2,2), 7)\n",
        "#print(same_value_mat)\n",
        "\n",
        "#print('')\n",
        "\n",
        "# np.eye는 대각선으로는 1이고 나머지는 0인 2차원 배열을 생성\n",
        "#eye_mat = np.eye(3)\n",
        "#print(eye_mat)\n",
        "\n",
        "#print('')\n",
        "\n",
        "#random_mat = np.random.random((2,2))\n",
        "#print(random_mat)"
      ],
      "metadata": {
        "id": "-YzHZiA274C8"
      },
      "execution_count": 12,
      "outputs": []
    },
    {
      "cell_type": "markdown",
      "source": [
        "np.arrange(n):\n",
        "\n",
        "0부터 n-1까지의 값을 가지는 배열.\n"
      ],
      "metadata": {
        "id": "42mvZ2Q---ae"
      }
    },
    {
      "cell_type": "code",
      "source": [
        "# 0부터 9까지\n",
        "#range_vec = np.arange(10)\n",
        "#print(range_vec)"
      ],
      "metadata": {
        "id": "QTaBrB9N-OG0"
      },
      "execution_count": 13,
      "outputs": []
    },
    {
      "cell_type": "markdown",
      "source": [
        "np.arange(i,j,k)\n",
        "\n",
        "i부터 j-1까지 k씩 증가 배열."
      ],
      "metadata": {
        "id": "nS3VRHG8__z8"
      }
    },
    {
      "cell_type": "code",
      "source": [
        "# 1부터 9까지 +2씩 적용되는 범위\n",
        "#n = 2\n",
        "#range_n_step_vec = np.arange(1,10,n)\n",
        "#print(range_n_step_vec)"
      ],
      "metadata": {
        "id": "aI9AH-bw_xNC"
      },
      "execution_count": 14,
      "outputs": []
    },
    {
      "cell_type": "markdown",
      "source": [
        "np.reshape():\n",
        "\n",
        "내부 데이터는 변경하지 않음. 배열의 구조를 바꿈."
      ],
      "metadata": {
        "id": "Z3y55_pAAmES"
      }
    },
    {
      "cell_type": "code",
      "source": [
        "# 0에서 29까지의 숫자 생성 후 5행 6열로 나타내 보자.\n",
        "#reshape_mat = np.array(np.arange(30)).reshape((5,6))\n",
        "#print(reshape_mat)\n",
        "\n",
        "#그냥 쓰면 이래 됨\n",
        "#a = np.array(np.arange(30))\n",
        "#print(a)"
      ],
      "metadata": {
        "id": "vp-DKdghAUQQ"
      },
      "execution_count": 15,
      "outputs": []
    },
    {
      "cell_type": "markdown",
      "source": [
        "Numpy 슬라이싱:\n",
        "\n",
        "ndarray를 통한 다차원 배열.\n",
        "\n",
        " 파이썬의 자료구조인 리스트처럼 슬라이싱 기능을 지원함. \n",
        " \n",
        " 슬라이싱 기능을 사용해 특정 행이나 열들의 원소들을 접근할 수 있습니다."
      ],
      "metadata": {
        "id": "lDDDm8pZBb1r"
      }
    },
    {
      "cell_type": "code",
      "source": [
        "#import numpy as np\n",
        "#mat = np.array([[1, 2, 3],[4, 5, 6]])\n",
        "#print(mat)"
      ],
      "metadata": {
        "id": "TfTz7TTnA9Te"
      },
      "execution_count": 16,
      "outputs": []
    },
    {
      "cell_type": "code",
      "source": [
        "#slicing_mat = mat[0,:]\n",
        "#print(slicing_mat)"
      ],
      "metadata": {
        "id": "C4G2kQPXFS0E"
      },
      "execution_count": 17,
      "outputs": []
    },
    {
      "cell_type": "code",
      "source": [
        "#slicing_mat = mat[:,0]\n",
        "#print(slicing_mat)\n",
        "#slicing_mat = mat[:,1]\n",
        "#print(slicing_mat)"
      ],
      "metadata": {
        "id": "RbJhsBrNFjoW"
      },
      "execution_count": 18,
      "outputs": []
    },
    {
      "cell_type": "markdown",
      "source": [
        "Numpy 정수 인덱싱(integer indexing):\n",
        "\n",
        "슬라이싱 -> 배열로부터 부분배열 추출가능\n",
        "연속적이지 못한 배열이면 슬라이싱으로는 X\n",
        "\n",
        "예시로 2행 2열의 원소와 5행 5열의 원소를 뽑아 하나의 배열로 만들고자 하는 경우이다."
      ],
      "metadata": {
        "id": "GSgn-JSFHrsG"
      }
    },
    {
      "cell_type": "code",
      "source": [
        "#import numpy as np\n",
        "\n",
        "#mat = np.array([[1,2],[4,5],[7,8]])\n",
        "#print(mat)\n",
        "\n",
        "# 1행 0열의 원소\n",
        "# => 0부터 카운트하므로 두 번째 행 첫 번째 열의 원소\n",
        "#print(mat[1,0])\n",
        "\n",
        "# mat[[2행, 1행],[0열, 1열]]\n",
        "# 각 행과 열의 쌍을 매칭하면 2행 0열, 1행 1열의 두 개의 원소\n",
        "#indexing_mat = mat[[2, 1],[0, 1]]\n",
        "#print(indexing_mat)"
      ],
      "metadata": {
        "id": "KS_FltANIwb7"
      },
      "execution_count": 19,
      "outputs": []
    },
    {
      "cell_type": "code",
      "source": [
        "#x = np.array([1,2,3])\n",
        "#y = np.array([4,5,6])\n",
        "\n",
        "# result = np.add(x,y) 와 동일\n",
        "#result = x + y\n",
        "#print(result)\n",
        "#print('')\n",
        "\n",
        "# result = np.subtract(x,y)와 동일\n",
        "#result = x - y\n",
        "#print(result)\n",
        "#print('')\n",
        "\n",
        "# result = np.multifly(result, x)와 동일.\n",
        "#result = result * x\n",
        "#print(result)\n",
        "#print('')\n",
        "\n",
        "# result = np.divide(result, x)와 동일\n",
        "#result = result / x \n",
        "#print(result)"
      ],
      "metadata": {
        "id": "8DB4NcZrJkVR"
      },
      "execution_count": 20,
      "outputs": []
    },
    {
      "cell_type": "code",
      "source": [
        "#mat1 = np.array([[1,2],[3,4]])\n",
        "#mat2 = np.array([[5,6],[7,8]])\n",
        "#mat3 = np.dot(mat1, mat2)\n",
        "#print(mat3)"
      ],
      "metadata": {
        "id": "Ifp0zrKYhTER"
      },
      "execution_count": 21,
      "outputs": []
    },
    {
      "cell_type": "markdown",
      "source": [
        "**맷플롯립**:데이터를 차트나 플롯으로 시각화하는 패키지. 데이터 분석 이전에 데이터 이해를 위한 시각화나, 분석 후 결과를 시각화하기 위해 사용."
      ],
      "metadata": {
        "id": "-yBWGliWjOgB"
      }
    },
    {
      "cell_type": "markdown",
      "source": [
        "**1) 라인 플롯 **:\n",
        "plot은 라인 플롯을 그리는 기능 x축과 y축 값을 기재 후 그림을 표시하는 show를 통해 시각화. "
      ],
      "metadata": {
        "id": "-Eu2xn7XjisR"
      }
    },
    {
      "cell_type": "code",
      "source": [
        "#import matplotlib.pyplot as plt\n",
        "#plt.title('test')\n",
        "#plt.plot([1,2,3,4],[2,4,8,6])\n",
        "#plt.show()"
      ],
      "metadata": {
        "id": "GH6t_Z-Ii9O7"
      },
      "execution_count": 22,
      "outputs": []
    },
    {
      "cell_type": "code",
      "source": [
        "# 축 레이블 삽입방법\n",
        "#plt.title('test')\n",
        "#plt.plot([1,2,3,4],[2,4,8,6])\n",
        "#plt.xlabel('hours')\n",
        "#plt.ylabel('score')\n",
        "#plt.show()"
      ],
      "metadata": {
        "id": "7ANw-j2Cj6cP"
      },
      "execution_count": 23,
      "outputs": []
    },
    {
      "cell_type": "code",
      "source": [
        "#plt.title('stutdents')\n",
        "#plt.plot([1,2,3,4],[2,4,8,6])\n",
        "#plt.plot([1.5,2.5,3.5,4.5],[3,5,8,10]) # 라인 새로 추가\n",
        "#plt.xlabel('hours')\n",
        "#plt.ylabel('score')\n",
        "#plt.legend(['A student', 'B student']) # 여러개의 라인 플롯을 동시에 사용하므로 각 선이 어떤 데이터를 나타내는지 보여주기 위한 범례임.\n",
        "#plt.show()"
      ],
      "metadata": {
        "id": "NHzIdTdXkNo2"
      },
      "execution_count": 24,
      "outputs": []
    },
    {
      "cell_type": "markdown",
      "source": [
        "** EDA: **\n",
        "좋은 머신러닝 결과를 위해 데이터의 성격을 파악하는 과정이 선행되어야 함.\n",
        "\n",
        " 데이터 내 값의 분포, 변수 간의 관계, Null값과 같은 결측값 존재 유무 등을 파악.\n",
        "."
      ],
      "metadata": {
        "id": "CrYl5u3amHzC"
      }
    },
    {
      "cell_type": "code",
      "source": [
        "#import pandas as pd\n",
        "#import pandas_profiling\n",
        "#data = pd.read_csv('D:/design/spam.csv',encoding='latin1')"
      ],
      "metadata": {
        "id": "IHKXaZzgkz6M"
      },
      "execution_count": 25,
      "outputs": []
    },
    {
      "cell_type": "code",
      "source": [],
      "metadata": {
        "id": "PIVwRS5anXAi"
      },
      "execution_count": 25,
      "outputs": []
    },
    {
      "cell_type": "code",
      "source": [
        "import numpy as np\n",
        "import pandas as pd\n",
        "import tensorflow as tf"
      ],
      "metadata": {
        "id": "ZtsbQXYynHEf"
      },
      "execution_count": 26,
      "outputs": []
    },
    {
      "cell_type": "code",
      "source": [
        "pd.__version__"
      ],
      "metadata": {
        "colab": {
          "base_uri": "https://localhost:8080/",
          "height": 35
        },
        "id": "jCq_fmqw1bal",
        "outputId": "386c7894-96bd-4503-b38e-59305900f690"
      },
      "execution_count": 27,
      "outputs": [
        {
          "output_type": "execute_result",
          "data": {
            "text/plain": [
              "'1.3.5'"
            ],
            "application/vnd.google.colaboratory.intrinsic+json": {
              "type": "string"
            }
          },
          "metadata": {},
          "execution_count": 27
        }
      ]
    },
    {
      "cell_type": "code",
      "source": [
        "tf .__version__"
      ],
      "metadata": {
        "colab": {
          "base_uri": "https://localhost:8080/",
          "height": 35
        },
        "id": "wD0jezhd1i56",
        "outputId": "801acff7-9441-4435-e0be-587fd445dd64"
      },
      "execution_count": 28,
      "outputs": [
        {
          "output_type": "execute_result",
          "data": {
            "text/plain": [
              "'2.9.2'"
            ],
            "application/vnd.google.colaboratory.intrinsic+json": {
              "type": "string"
            }
          },
          "metadata": {},
          "execution_count": 28
        }
      ]
    },
    {
      "cell_type": "code",
      "source": [
        "# '나는 서울에 산다\" [1,1,1,0,1,1,0]\n",
        "# '나 혼자 산다\" [1,0,0,1,0,1,0]\n",
        "# '나는 서울에 있다\" [1,1,1,0,1,0,0]\n",
        "\n",
        "sent1 = np.array([1,1,1,0,1,1,0])\n",
        "sent1.shape\n",
        "# 1차원 벡터이고 7개의 원소를 가지고 있다."
      ],
      "metadata": {
        "colab": {
          "base_uri": "https://localhost:8080/"
        },
        "id": "dcuIchWg2cW2",
        "outputId": "44112047-c940-44b2-ff84-131098d8d2a2"
      },
      "execution_count": 29,
      "outputs": [
        {
          "output_type": "execute_result",
          "data": {
            "text/plain": [
              "(7,)"
            ]
          },
          "metadata": {},
          "execution_count": 29
        }
      ]
    },
    {
      "cell_type": "code",
      "source": [
        "sent2 = np.array([1,0,0,1,0,1,0])\n",
        "sent2.shape"
      ],
      "metadata": {
        "colab": {
          "base_uri": "https://localhost:8080/"
        },
        "id": "xArW4HSV3LPK",
        "outputId": "7fbe4f9b-72e3-4693-9fa5-182fb32f6f3f"
      },
      "execution_count": 30,
      "outputs": [
        {
          "output_type": "execute_result",
          "data": {
            "text/plain": [
              "(7,)"
            ]
          },
          "metadata": {},
          "execution_count": 30
        }
      ]
    },
    {
      "cell_type": "code",
      "source": [
        "sent3= np.array([1,1,1,0,1,0,0])\n",
        "sent3.shape"
      ],
      "metadata": {
        "colab": {
          "base_uri": "https://localhost:8080/"
        },
        "id": "HYo5rblg3b-H",
        "outputId": "1145dfae-9104-46ea-dc5f-cf5d907e0914"
      },
      "execution_count": 31,
      "outputs": [
        {
          "output_type": "execute_result",
          "data": {
            "text/plain": [
              "(7,)"
            ]
          },
          "metadata": {},
          "execution_count": 31
        }
      ]
    },
    {
      "cell_type": "code",
      "source": [
        "a = sent1 + sent2\n",
        "print(a)\n",
        "[1,1,1,0,1,1,0] + [1,0,0,1,0,1,0]\n",
        "\n",
        "# 두 가지의 계산이 다르다.  arrary를 해주었을 때 글자의 갯수를 세어줌.\n",
        "# 리스트 간의 합은 단순 라스트의 합이 된다."
      ],
      "metadata": {
        "colab": {
          "base_uri": "https://localhost:8080/"
        },
        "id": "E35tqAiy3c7R",
        "outputId": "732fce72-f005-4514-de87-7cd830e4cb54"
      },
      "execution_count": 32,
      "outputs": [
        {
          "output_type": "stream",
          "name": "stdout",
          "text": [
            "[2 1 1 1 1 2 0]\n"
          ]
        },
        {
          "output_type": "execute_result",
          "data": {
            "text/plain": [
              "[1, 1, 1, 0, 1, 1, 0, 1, 0, 0, 1, 0, 1, 0]"
            ]
          },
          "metadata": {},
          "execution_count": 32
        }
      ]
    },
    {
      "cell_type": "code",
      "source": [
        "from sklearn.metrics.pairwise import cosine_similarity"
      ],
      "metadata": {
        "id": "Lgjwir0x3q0v"
      },
      "execution_count": 33,
      "outputs": []
    },
    {
      "cell_type": "code",
      "source": [
        "cosine_similarity(sent1.reshape(1, -1), sent2.reshape(1,-1))\n",
        "# 위의 함수는 2차원 배열을 요구하기 때문에 단순히 sent1과 sent2를 넣었을 때 오류가 남\n"
      ],
      "metadata": {
        "colab": {
          "base_uri": "https://localhost:8080/"
        },
        "id": "RWDGZtR_4lSH",
        "outputId": "ff0e157f-991b-4753-f210-622d9e23987e"
      },
      "execution_count": 34,
      "outputs": [
        {
          "output_type": "execute_result",
          "data": {
            "text/plain": [
              "array([[0.51639778]])"
            ]
          },
          "metadata": {},
          "execution_count": 34
        }
      ]
    },
    {
      "cell_type": "code",
      "source": [
        "cosine_similarity(sent1.reshape(1, -1), sent3.reshape(1,-1))\n"
      ],
      "metadata": {
        "colab": {
          "base_uri": "https://localhost:8080/"
        },
        "id": "ii7vaPwd4vXk",
        "outputId": "37177110-22ca-4232-e60a-0d3a1dc5dbcf"
      },
      "execution_count": 35,
      "outputs": [
        {
          "output_type": "execute_result",
          "data": {
            "text/plain": [
              "array([[0.89442719]])"
            ]
          },
          "metadata": {},
          "execution_count": 35
        }
      ]
    },
    {
      "cell_type": "code",
      "source": [
        "# cosine_similarity 함수를 numpy함수로 표현해 본다면?\n",
        "def cosine_similarity_1d(x, y):\n",
        "    return np.dot(x, y) / (np.linalg.norm(x) * np.linalg.norm(y))"
      ],
      "metadata": {
        "id": "YtViDOeI5AAg"
      },
      "execution_count": 36,
      "outputs": []
    },
    {
      "cell_type": "code",
      "source": [
        "cosine_similarity_1d(sent1, sent2)"
      ],
      "metadata": {
        "colab": {
          "base_uri": "https://localhost:8080/"
        },
        "id": "PbTSIEch5l1d",
        "outputId": "bed1ffa0-3c16-4e50-e131-dc9d441072a6"
      },
      "execution_count": 37,
      "outputs": [
        {
          "output_type": "execute_result",
          "data": {
            "text/plain": [
              "0.5163977794943222"
            ]
          },
          "metadata": {},
          "execution_count": 37
        }
      ]
    },
    {
      "cell_type": "code",
      "source": [
        "cosine_similarity_1d(sent1, sent3)"
      ],
      "metadata": {
        "colab": {
          "base_uri": "https://localhost:8080/"
        },
        "id": "jmrfAK075vFG",
        "outputId": "55a9f186-5302-492a-b9c2-68d72e911a2b"
      },
      "execution_count": 38,
      "outputs": [
        {
          "output_type": "execute_result",
          "data": {
            "text/plain": [
              "0.8944271909999159"
            ]
          },
          "metadata": {},
          "execution_count": 38
        }
      ]
    },
    {
      "cell_type": "code",
      "source": [
        "!pip install konlpy"
      ],
      "metadata": {
        "id": "CMrvxN1a5yYM",
        "colab": {
          "base_uri": "https://localhost:8080/"
        },
        "outputId": "44da3094-6d81-4324-f616-e7d5adee6c38"
      },
      "execution_count": 39,
      "outputs": [
        {
          "output_type": "stream",
          "name": "stdout",
          "text": [
            "Looking in indexes: https://pypi.org/simple, https://us-python.pkg.dev/colab-wheels/public/simple/\n",
            "Collecting konlpy\n",
            "  Downloading konlpy-0.6.0-py2.py3-none-any.whl (19.4 MB)\n",
            "\u001b[K     |████████████████████████████████| 19.4 MB 1.2 MB/s \n",
            "\u001b[?25hRequirement already satisfied: numpy>=1.6 in /usr/local/lib/python3.8/dist-packages (from konlpy) (1.21.6)\n",
            "Collecting JPype1>=0.7.0\n",
            "  Downloading JPype1-1.4.1-cp38-cp38-manylinux_2_12_x86_64.manylinux2010_x86_64.whl (465 kB)\n",
            "\u001b[K     |████████████████████████████████| 465 kB 71.8 MB/s \n",
            "\u001b[?25hRequirement already satisfied: lxml>=4.1.0 in /usr/local/lib/python3.8/dist-packages (from konlpy) (4.9.1)\n",
            "Requirement already satisfied: packaging in /usr/local/lib/python3.8/dist-packages (from JPype1>=0.7.0->konlpy) (21.3)\n",
            "Requirement already satisfied: pyparsing!=3.0.5,>=2.0.2 in /usr/local/lib/python3.8/dist-packages (from packaging->JPype1>=0.7.0->konlpy) (3.0.9)\n",
            "Installing collected packages: JPype1, konlpy\n",
            "Successfully installed JPype1-1.4.1 konlpy-0.6.0\n"
          ]
        }
      ]
    },
    {
      "cell_type": "code",
      "source": [
        "!apt -qq -y  install fonts-nanum"
      ],
      "metadata": {
        "colab": {
          "base_uri": "https://localhost:8080/"
        },
        "id": "FFmJZqhq3TEm",
        "outputId": "af5f07e1-1ee8-4924-cb8a-1dcfffa6d503"
      },
      "execution_count": 40,
      "outputs": [
        {
          "output_type": "stream",
          "name": "stdout",
          "text": [
            "The following package was automatically installed and is no longer required:\n",
            "  libnvidia-common-460\n",
            "Use 'apt autoremove' to remove it.\n",
            "The following NEW packages will be installed:\n",
            "  fonts-nanum\n",
            "0 upgraded, 1 newly installed, 0 to remove and 7 not upgraded.\n",
            "Need to get 9,604 kB of archives.\n",
            "After this operation, 29.5 MB of additional disk space will be used.\n",
            "Selecting previously unselected package fonts-nanum.\n",
            "(Reading database ... 124015 files and directories currently installed.)\n",
            "Preparing to unpack .../fonts-nanum_20170925-1_all.deb ...\n",
            "Unpacking fonts-nanum (20170925-1) ...\n",
            "Setting up fonts-nanum (20170925-1) ...\n",
            "Processing triggers for fontconfig (2.12.6-0ubuntu2) ...\n"
          ]
        }
      ]
    },
    {
      "cell_type": "code",
      "source": [
        "import matplotlib.font_manager as fm\n",
        "from matplotlib import rc\n",
        "\n",
        "font_path = '/usr/share/fonts/truetype/nanum/NanumGothic.ttf'\n",
        "fontprop = fm.FontProperties(fname=font_path)\n",
        "rc('font', family=fontprop.get_name(), size=16)\n",
        "fm._rebuild()"
      ],
      "metadata": {
        "id": "c3kAT_fV3fmt"
      },
      "execution_count": 41,
      "outputs": []
    },
    {
      "cell_type": "markdown",
      "source": [
        "3. pandas를 활용하여 excel 파일 데이터 읽기"
      ],
      "metadata": {
        "id": "FJdWLhsp-Go3"
      }
    },
    {
      "cell_type": "code",
      "source": [
        "from google.colab import drive\n",
        "drive.mount('/gdrive')"
      ],
      "metadata": {
        "colab": {
          "base_uri": "https://localhost:8080/"
        },
        "id": "45GyZ8Cs3o51",
        "outputId": "63b65598-ddde-4911-8c9d-d2c4fa48404e"
      },
      "execution_count": 42,
      "outputs": [
        {
          "output_type": "stream",
          "name": "stdout",
          "text": [
            "Mounted at /gdrive\n"
          ]
        }
      ]
    },
    {
      "cell_type": "code",
      "source": [
        "from glob import glob\n",
        "glob('/gdrive/MyDrive/class101/*')"
      ],
      "metadata": {
        "colab": {
          "base_uri": "https://localhost:8080/"
        },
        "id": "F0Phz7O15AMJ",
        "outputId": "85e2a257-a27e-4c17-8c3f-86ceb358c5b7"
      },
      "execution_count": 43,
      "outputs": [
        {
          "output_type": "execute_result",
          "data": {
            "text/plain": [
              "['/gdrive/MyDrive/class101/영화_위키피디아_최근5년.xlsx']"
            ]
          },
          "metadata": {},
          "execution_count": 43
        }
      ]
    },
    {
      "cell_type": "code",
      "source": [
        "import pandas as pd\n",
        "ROOT_PATH = '/gdrive/MyDrive/class101/'\n",
        "df = pd.read_excel(ROOT_PATH + '영화_위키피디아_최근5년.xlsx', sheet_name='2021')\n",
        "df.head()"
      ],
      "metadata": {
        "id": "eut09pTe5wzV",
        "colab": {
          "base_uri": "https://localhost:8080/",
          "height": 441
        },
        "outputId": "d578df45-218a-4ed6-e720-6acbbbcb7b2a"
      },
      "execution_count": 44,
      "outputs": [
        {
          "output_type": "execute_result",
          "data": {
            "text/plain": [
              "   순위              영화명        개봉일  \\\n",
              "0   1    스파이더맨: 노 웨이 홈 2021-12-15   \n",
              "1   2             모가디슈 2021-07-28   \n",
              "2   3             이터널스 2021-11-03   \n",
              "3   4           블랙 위도우 2021-07-07   \n",
              "4   5  분노의 질주: 더 얼티메이트 2021-05-19   \n",
              "\n",
              "                                                  개요  \\\n",
              "0  《스파이더맨: 노 웨이 홈》(영어: Spider-Man: No Way Home)은 ...   \n",
              "1  《모가디슈》는 2021년에 개봉한 대한민국의 영화이다. 류승완 감독의 작품으로, 7...   \n",
              "2  《이터널스》(영어: The Eternals)는 2021년 공개된 미국의 슈퍼히어로 ...   \n",
              "3  《블랙 위도우》(영어: Black Widow)는 2021년 개봉한 미국의 슈퍼히어로...   \n",
              "4  \"분노의 질주: 더 얼티메이트\"(영어: F9)는 2021년 공개된 미국의 액션 영화...   \n",
              "\n",
              "                                                 줄거리  \n",
              "0  전작 《스파이더맨: 파 프롬 홈》에서 미스테리오가 스파이더맨이 살인자라고 누명을 씌...  \n",
              "1                                                NaN  \n",
              "2  데비안츠라는 괴물들로부터 인류를 지키고 인류를 진화시키기 위해 신과 같은 존재인 셀...  \n",
              "3                                                NaN  \n",
              "4  도미닉(빈 디젤)은 자신과 가장 가까웠던 형제 제이콥(존 시나)이 사이퍼(샤를리즈 ...  "
            ],
            "text/html": [
              "\n",
              "  <div id=\"df-411126bc-c972-4b92-9744-5afe89d887bb\">\n",
              "    <div class=\"colab-df-container\">\n",
              "      <div>\n",
              "<style scoped>\n",
              "    .dataframe tbody tr th:only-of-type {\n",
              "        vertical-align: middle;\n",
              "    }\n",
              "\n",
              "    .dataframe tbody tr th {\n",
              "        vertical-align: top;\n",
              "    }\n",
              "\n",
              "    .dataframe thead th {\n",
              "        text-align: right;\n",
              "    }\n",
              "</style>\n",
              "<table border=\"1\" class=\"dataframe\">\n",
              "  <thead>\n",
              "    <tr style=\"text-align: right;\">\n",
              "      <th></th>\n",
              "      <th>순위</th>\n",
              "      <th>영화명</th>\n",
              "      <th>개봉일</th>\n",
              "      <th>개요</th>\n",
              "      <th>줄거리</th>\n",
              "    </tr>\n",
              "  </thead>\n",
              "  <tbody>\n",
              "    <tr>\n",
              "      <th>0</th>\n",
              "      <td>1</td>\n",
              "      <td>스파이더맨: 노 웨이 홈</td>\n",
              "      <td>2021-12-15</td>\n",
              "      <td>《스파이더맨: 노 웨이 홈》(영어: Spider-Man: No Way Home)은 ...</td>\n",
              "      <td>전작 《스파이더맨: 파 프롬 홈》에서 미스테리오가 스파이더맨이 살인자라고 누명을 씌...</td>\n",
              "    </tr>\n",
              "    <tr>\n",
              "      <th>1</th>\n",
              "      <td>2</td>\n",
              "      <td>모가디슈</td>\n",
              "      <td>2021-07-28</td>\n",
              "      <td>《모가디슈》는 2021년에 개봉한 대한민국의 영화이다. 류승완 감독의 작품으로, 7...</td>\n",
              "      <td>NaN</td>\n",
              "    </tr>\n",
              "    <tr>\n",
              "      <th>2</th>\n",
              "      <td>3</td>\n",
              "      <td>이터널스</td>\n",
              "      <td>2021-11-03</td>\n",
              "      <td>《이터널스》(영어: The Eternals)는 2021년 공개된 미국의 슈퍼히어로 ...</td>\n",
              "      <td>데비안츠라는 괴물들로부터 인류를 지키고 인류를 진화시키기 위해 신과 같은 존재인 셀...</td>\n",
              "    </tr>\n",
              "    <tr>\n",
              "      <th>3</th>\n",
              "      <td>4</td>\n",
              "      <td>블랙 위도우</td>\n",
              "      <td>2021-07-07</td>\n",
              "      <td>《블랙 위도우》(영어: Black Widow)는 2021년 개봉한 미국의 슈퍼히어로...</td>\n",
              "      <td>NaN</td>\n",
              "    </tr>\n",
              "    <tr>\n",
              "      <th>4</th>\n",
              "      <td>5</td>\n",
              "      <td>분노의 질주: 더 얼티메이트</td>\n",
              "      <td>2021-05-19</td>\n",
              "      <td>\"분노의 질주: 더 얼티메이트\"(영어: F9)는 2021년 공개된 미국의 액션 영화...</td>\n",
              "      <td>도미닉(빈 디젤)은 자신과 가장 가까웠던 형제 제이콥(존 시나)이 사이퍼(샤를리즈 ...</td>\n",
              "    </tr>\n",
              "  </tbody>\n",
              "</table>\n",
              "</div>\n",
              "      <button class=\"colab-df-convert\" onclick=\"convertToInteractive('df-411126bc-c972-4b92-9744-5afe89d887bb')\"\n",
              "              title=\"Convert this dataframe to an interactive table.\"\n",
              "              style=\"display:none;\">\n",
              "        \n",
              "  <svg xmlns=\"http://www.w3.org/2000/svg\" height=\"24px\"viewBox=\"0 0 24 24\"\n",
              "       width=\"24px\">\n",
              "    <path d=\"M0 0h24v24H0V0z\" fill=\"none\"/>\n",
              "    <path d=\"M18.56 5.44l.94 2.06.94-2.06 2.06-.94-2.06-.94-.94-2.06-.94 2.06-2.06.94zm-11 1L8.5 8.5l.94-2.06 2.06-.94-2.06-.94L8.5 2.5l-.94 2.06-2.06.94zm10 10l.94 2.06.94-2.06 2.06-.94-2.06-.94-.94-2.06-.94 2.06-2.06.94z\"/><path d=\"M17.41 7.96l-1.37-1.37c-.4-.4-.92-.59-1.43-.59-.52 0-1.04.2-1.43.59L10.3 9.45l-7.72 7.72c-.78.78-.78 2.05 0 2.83L4 21.41c.39.39.9.59 1.41.59.51 0 1.02-.2 1.41-.59l7.78-7.78 2.81-2.81c.8-.78.8-2.07 0-2.86zM5.41 20L4 18.59l7.72-7.72 1.47 1.35L5.41 20z\"/>\n",
              "  </svg>\n",
              "      </button>\n",
              "      \n",
              "  <style>\n",
              "    .colab-df-container {\n",
              "      display:flex;\n",
              "      flex-wrap:wrap;\n",
              "      gap: 12px;\n",
              "    }\n",
              "\n",
              "    .colab-df-convert {\n",
              "      background-color: #E8F0FE;\n",
              "      border: none;\n",
              "      border-radius: 50%;\n",
              "      cursor: pointer;\n",
              "      display: none;\n",
              "      fill: #1967D2;\n",
              "      height: 32px;\n",
              "      padding: 0 0 0 0;\n",
              "      width: 32px;\n",
              "    }\n",
              "\n",
              "    .colab-df-convert:hover {\n",
              "      background-color: #E2EBFA;\n",
              "      box-shadow: 0px 1px 2px rgba(60, 64, 67, 0.3), 0px 1px 3px 1px rgba(60, 64, 67, 0.15);\n",
              "      fill: #174EA6;\n",
              "    }\n",
              "\n",
              "    [theme=dark] .colab-df-convert {\n",
              "      background-color: #3B4455;\n",
              "      fill: #D2E3FC;\n",
              "    }\n",
              "\n",
              "    [theme=dark] .colab-df-convert:hover {\n",
              "      background-color: #434B5C;\n",
              "      box-shadow: 0px 1px 3px 1px rgba(0, 0, 0, 0.15);\n",
              "      filter: drop-shadow(0px 1px 2px rgba(0, 0, 0, 0.3));\n",
              "      fill: #FFFFFF;\n",
              "    }\n",
              "  </style>\n",
              "\n",
              "      <script>\n",
              "        const buttonEl =\n",
              "          document.querySelector('#df-411126bc-c972-4b92-9744-5afe89d887bb button.colab-df-convert');\n",
              "        buttonEl.style.display =\n",
              "          google.colab.kernel.accessAllowed ? 'block' : 'none';\n",
              "\n",
              "        async function convertToInteractive(key) {\n",
              "          const element = document.querySelector('#df-411126bc-c972-4b92-9744-5afe89d887bb');\n",
              "          const dataTable =\n",
              "            await google.colab.kernel.invokeFunction('convertToInteractive',\n",
              "                                                     [key], {});\n",
              "          if (!dataTable) return;\n",
              "\n",
              "          const docLinkHtml = 'Like what you see? Visit the ' +\n",
              "            '<a target=\"_blank\" href=https://colab.research.google.com/notebooks/data_table.ipynb>data table notebook</a>'\n",
              "            + ' to learn more about interactive tables.';\n",
              "          element.innerHTML = '';\n",
              "          dataTable['output_type'] = 'display_data';\n",
              "          await google.colab.output.renderOutput(dataTable, element);\n",
              "          const docLink = document.createElement('div');\n",
              "          docLink.innerHTML = docLinkHtml;\n",
              "          element.appendChild(docLink);\n",
              "        }\n",
              "      </script>\n",
              "    </div>\n",
              "  </div>\n",
              "  "
            ]
          },
          "metadata": {},
          "execution_count": 44
        }
      ]
    },
    {
      "cell_type": "code",
      "source": [],
      "metadata": {
        "id": "8V48klXRRCOp"
      },
      "execution_count": 44,
      "outputs": []
    },
    {
      "cell_type": "code",
      "source": [
        "df.info()"
      ],
      "metadata": {
        "colab": {
          "base_uri": "https://localhost:8080/"
        },
        "id": "eycfurak-cHc",
        "outputId": "be96e26f-7a0f-4304-c565-76656d0ae7e9"
      },
      "execution_count": 45,
      "outputs": [
        {
          "output_type": "stream",
          "name": "stdout",
          "text": [
            "<class 'pandas.core.frame.DataFrame'>\n",
            "RangeIndex: 30 entries, 0 to 29\n",
            "Data columns (total 5 columns):\n",
            " #   Column  Non-Null Count  Dtype         \n",
            "---  ------  --------------  -----         \n",
            " 0   순위      30 non-null     int64         \n",
            " 1   영화명     30 non-null     object        \n",
            " 2   개봉일     30 non-null     datetime64[ns]\n",
            " 3   개요      30 non-null     object        \n",
            " 4   줄거리     26 non-null     object        \n",
            "dtypes: datetime64[ns](1), int64(1), object(3)\n",
            "memory usage: 1.3+ KB\n"
          ]
        }
      ]
    },
    {
      "cell_type": "code",
      "source": [
        "df_list = []\n",
        "for year in ['2021','2020','2019','2018','2017']:\n",
        "    df_tmp = pd.read_excel(ROOT_PATH + '영화_위키피디아_최근5년.xlsx', sheet_name=year)\n",
        "    df_list.append(df_tmp)\n",
        "len(df_list)                      \n",
        "      "
      ],
      "metadata": {
        "colab": {
          "base_uri": "https://localhost:8080/"
        },
        "id": "nfMyPhR5-s0e",
        "outputId": "21bf740e-197a-4e0c-abe2-61e4cc12b831"
      },
      "execution_count": 46,
      "outputs": [
        {
          "output_type": "execute_result",
          "data": {
            "text/plain": [
              "5"
            ]
          },
          "metadata": {},
          "execution_count": 46
        }
      ]
    },
    {
      "cell_type": "code",
      "source": [
        "df_list[0].head()\n",
        "# df_list[1].head()\n",
        "# df_list[2].head()\n",
        "# df_list[3].head()\n",
        "# df_list[4].head()"
      ],
      "metadata": {
        "id": "Qk4UPtu4_ULv",
        "colab": {
          "base_uri": "https://localhost:8080/",
          "height": 441
        },
        "outputId": "ff1be825-d5da-4b49-b8dc-329b790b5278"
      },
      "execution_count": 47,
      "outputs": [
        {
          "output_type": "execute_result",
          "data": {
            "text/plain": [
              "   순위              영화명        개봉일  \\\n",
              "0   1    스파이더맨: 노 웨이 홈 2021-12-15   \n",
              "1   2             모가디슈 2021-07-28   \n",
              "2   3             이터널스 2021-11-03   \n",
              "3   4           블랙 위도우 2021-07-07   \n",
              "4   5  분노의 질주: 더 얼티메이트 2021-05-19   \n",
              "\n",
              "                                                  개요  \\\n",
              "0  《스파이더맨: 노 웨이 홈》(영어: Spider-Man: No Way Home)은 ...   \n",
              "1  《모가디슈》는 2021년에 개봉한 대한민국의 영화이다. 류승완 감독의 작품으로, 7...   \n",
              "2  《이터널스》(영어: The Eternals)는 2021년 공개된 미국의 슈퍼히어로 ...   \n",
              "3  《블랙 위도우》(영어: Black Widow)는 2021년 개봉한 미국의 슈퍼히어로...   \n",
              "4  \"분노의 질주: 더 얼티메이트\"(영어: F9)는 2021년 공개된 미국의 액션 영화...   \n",
              "\n",
              "                                                 줄거리  \n",
              "0  전작 《스파이더맨: 파 프롬 홈》에서 미스테리오가 스파이더맨이 살인자라고 누명을 씌...  \n",
              "1                                                NaN  \n",
              "2  데비안츠라는 괴물들로부터 인류를 지키고 인류를 진화시키기 위해 신과 같은 존재인 셀...  \n",
              "3                                                NaN  \n",
              "4  도미닉(빈 디젤)은 자신과 가장 가까웠던 형제 제이콥(존 시나)이 사이퍼(샤를리즈 ...  "
            ],
            "text/html": [
              "\n",
              "  <div id=\"df-4ab3c4ed-d60a-417c-a337-8ebba42795c9\">\n",
              "    <div class=\"colab-df-container\">\n",
              "      <div>\n",
              "<style scoped>\n",
              "    .dataframe tbody tr th:only-of-type {\n",
              "        vertical-align: middle;\n",
              "    }\n",
              "\n",
              "    .dataframe tbody tr th {\n",
              "        vertical-align: top;\n",
              "    }\n",
              "\n",
              "    .dataframe thead th {\n",
              "        text-align: right;\n",
              "    }\n",
              "</style>\n",
              "<table border=\"1\" class=\"dataframe\">\n",
              "  <thead>\n",
              "    <tr style=\"text-align: right;\">\n",
              "      <th></th>\n",
              "      <th>순위</th>\n",
              "      <th>영화명</th>\n",
              "      <th>개봉일</th>\n",
              "      <th>개요</th>\n",
              "      <th>줄거리</th>\n",
              "    </tr>\n",
              "  </thead>\n",
              "  <tbody>\n",
              "    <tr>\n",
              "      <th>0</th>\n",
              "      <td>1</td>\n",
              "      <td>스파이더맨: 노 웨이 홈</td>\n",
              "      <td>2021-12-15</td>\n",
              "      <td>《스파이더맨: 노 웨이 홈》(영어: Spider-Man: No Way Home)은 ...</td>\n",
              "      <td>전작 《스파이더맨: 파 프롬 홈》에서 미스테리오가 스파이더맨이 살인자라고 누명을 씌...</td>\n",
              "    </tr>\n",
              "    <tr>\n",
              "      <th>1</th>\n",
              "      <td>2</td>\n",
              "      <td>모가디슈</td>\n",
              "      <td>2021-07-28</td>\n",
              "      <td>《모가디슈》는 2021년에 개봉한 대한민국의 영화이다. 류승완 감독의 작품으로, 7...</td>\n",
              "      <td>NaN</td>\n",
              "    </tr>\n",
              "    <tr>\n",
              "      <th>2</th>\n",
              "      <td>3</td>\n",
              "      <td>이터널스</td>\n",
              "      <td>2021-11-03</td>\n",
              "      <td>《이터널스》(영어: The Eternals)는 2021년 공개된 미국의 슈퍼히어로 ...</td>\n",
              "      <td>데비안츠라는 괴물들로부터 인류를 지키고 인류를 진화시키기 위해 신과 같은 존재인 셀...</td>\n",
              "    </tr>\n",
              "    <tr>\n",
              "      <th>3</th>\n",
              "      <td>4</td>\n",
              "      <td>블랙 위도우</td>\n",
              "      <td>2021-07-07</td>\n",
              "      <td>《블랙 위도우》(영어: Black Widow)는 2021년 개봉한 미국의 슈퍼히어로...</td>\n",
              "      <td>NaN</td>\n",
              "    </tr>\n",
              "    <tr>\n",
              "      <th>4</th>\n",
              "      <td>5</td>\n",
              "      <td>분노의 질주: 더 얼티메이트</td>\n",
              "      <td>2021-05-19</td>\n",
              "      <td>\"분노의 질주: 더 얼티메이트\"(영어: F9)는 2021년 공개된 미국의 액션 영화...</td>\n",
              "      <td>도미닉(빈 디젤)은 자신과 가장 가까웠던 형제 제이콥(존 시나)이 사이퍼(샤를리즈 ...</td>\n",
              "    </tr>\n",
              "  </tbody>\n",
              "</table>\n",
              "</div>\n",
              "      <button class=\"colab-df-convert\" onclick=\"convertToInteractive('df-4ab3c4ed-d60a-417c-a337-8ebba42795c9')\"\n",
              "              title=\"Convert this dataframe to an interactive table.\"\n",
              "              style=\"display:none;\">\n",
              "        \n",
              "  <svg xmlns=\"http://www.w3.org/2000/svg\" height=\"24px\"viewBox=\"0 0 24 24\"\n",
              "       width=\"24px\">\n",
              "    <path d=\"M0 0h24v24H0V0z\" fill=\"none\"/>\n",
              "    <path d=\"M18.56 5.44l.94 2.06.94-2.06 2.06-.94-2.06-.94-.94-2.06-.94 2.06-2.06.94zm-11 1L8.5 8.5l.94-2.06 2.06-.94-2.06-.94L8.5 2.5l-.94 2.06-2.06.94zm10 10l.94 2.06.94-2.06 2.06-.94-2.06-.94-.94-2.06-.94 2.06-2.06.94z\"/><path d=\"M17.41 7.96l-1.37-1.37c-.4-.4-.92-.59-1.43-.59-.52 0-1.04.2-1.43.59L10.3 9.45l-7.72 7.72c-.78.78-.78 2.05 0 2.83L4 21.41c.39.39.9.59 1.41.59.51 0 1.02-.2 1.41-.59l7.78-7.78 2.81-2.81c.8-.78.8-2.07 0-2.86zM5.41 20L4 18.59l7.72-7.72 1.47 1.35L5.41 20z\"/>\n",
              "  </svg>\n",
              "      </button>\n",
              "      \n",
              "  <style>\n",
              "    .colab-df-container {\n",
              "      display:flex;\n",
              "      flex-wrap:wrap;\n",
              "      gap: 12px;\n",
              "    }\n",
              "\n",
              "    .colab-df-convert {\n",
              "      background-color: #E8F0FE;\n",
              "      border: none;\n",
              "      border-radius: 50%;\n",
              "      cursor: pointer;\n",
              "      display: none;\n",
              "      fill: #1967D2;\n",
              "      height: 32px;\n",
              "      padding: 0 0 0 0;\n",
              "      width: 32px;\n",
              "    }\n",
              "\n",
              "    .colab-df-convert:hover {\n",
              "      background-color: #E2EBFA;\n",
              "      box-shadow: 0px 1px 2px rgba(60, 64, 67, 0.3), 0px 1px 3px 1px rgba(60, 64, 67, 0.15);\n",
              "      fill: #174EA6;\n",
              "    }\n",
              "\n",
              "    [theme=dark] .colab-df-convert {\n",
              "      background-color: #3B4455;\n",
              "      fill: #D2E3FC;\n",
              "    }\n",
              "\n",
              "    [theme=dark] .colab-df-convert:hover {\n",
              "      background-color: #434B5C;\n",
              "      box-shadow: 0px 1px 3px 1px rgba(0, 0, 0, 0.15);\n",
              "      filter: drop-shadow(0px 1px 2px rgba(0, 0, 0, 0.3));\n",
              "      fill: #FFFFFF;\n",
              "    }\n",
              "  </style>\n",
              "\n",
              "      <script>\n",
              "        const buttonEl =\n",
              "          document.querySelector('#df-4ab3c4ed-d60a-417c-a337-8ebba42795c9 button.colab-df-convert');\n",
              "        buttonEl.style.display =\n",
              "          google.colab.kernel.accessAllowed ? 'block' : 'none';\n",
              "\n",
              "        async function convertToInteractive(key) {\n",
              "          const element = document.querySelector('#df-4ab3c4ed-d60a-417c-a337-8ebba42795c9');\n",
              "          const dataTable =\n",
              "            await google.colab.kernel.invokeFunction('convertToInteractive',\n",
              "                                                     [key], {});\n",
              "          if (!dataTable) return;\n",
              "\n",
              "          const docLinkHtml = 'Like what you see? Visit the ' +\n",
              "            '<a target=\"_blank\" href=https://colab.research.google.com/notebooks/data_table.ipynb>data table notebook</a>'\n",
              "            + ' to learn more about interactive tables.';\n",
              "          element.innerHTML = '';\n",
              "          dataTable['output_type'] = 'display_data';\n",
              "          await google.colab.output.renderOutput(dataTable, element);\n",
              "          const docLink = document.createElement('div');\n",
              "          docLink.innerHTML = docLinkHtml;\n",
              "          element.appendChild(docLink);\n",
              "        }\n",
              "      </script>\n",
              "    </div>\n",
              "  </div>\n",
              "  "
            ]
          },
          "metadata": {},
          "execution_count": 47
        }
      ]
    },
    {
      "cell_type": "code",
      "source": [
        "df = pd.concat(df_list)\n",
        "df.shape"
      ],
      "metadata": {
        "colab": {
          "base_uri": "https://localhost:8080/"
        },
        "id": "zKcXNSEu_sDz",
        "outputId": "3c4d95f5-94ba-4dc1-84ce-9a07b04efb94"
      },
      "execution_count": 48,
      "outputs": [
        {
          "output_type": "execute_result",
          "data": {
            "text/plain": [
              "(150, 5)"
            ]
          },
          "metadata": {},
          "execution_count": 48
        }
      ]
    },
    {
      "cell_type": "code",
      "source": [
        "df.info()"
      ],
      "metadata": {
        "id": "QYag4L3iBk5H",
        "colab": {
          "base_uri": "https://localhost:8080/"
        },
        "outputId": "c8f4d05a-80b2-4b7c-e28e-8106543630f2"
      },
      "execution_count": 49,
      "outputs": [
        {
          "output_type": "stream",
          "name": "stdout",
          "text": [
            "<class 'pandas.core.frame.DataFrame'>\n",
            "Int64Index: 150 entries, 0 to 29\n",
            "Data columns (total 5 columns):\n",
            " #   Column  Non-Null Count  Dtype         \n",
            "---  ------  --------------  -----         \n",
            " 0   순위      150 non-null    int64         \n",
            " 1   영화명     150 non-null    object        \n",
            " 2   개봉일     150 non-null    datetime64[ns]\n",
            " 3   개요      150 non-null    object        \n",
            " 4   줄거리     146 non-null    object        \n",
            "dtypes: datetime64[ns](1), int64(1), object(3)\n",
            "memory usage: 7.0+ KB\n"
          ]
        }
      ]
    },
    {
      "cell_type": "code",
      "source": [
        "df.dropna(inplace=True) #df 내에서 null값이 제거가 됨.\n",
        "df.reset_index(drop=True, inplace=True) \n",
        "# null값을 삭제하면, 인덱스가 꼬일 때가 있어 reset해줌\n",
        "# drop  이전에 사용하던 인덱스가 column으로 가는데 이것을 삭제\n",
        "# inplace df의 객체에 그대로 적용하겠다.\n",
        "df.info()"
      ],
      "metadata": {
        "id": "h9ShX822Brzz",
        "colab": {
          "base_uri": "https://localhost:8080/"
        },
        "outputId": "f3e44950-a090-48d4-f7f8-b7410e2f241c"
      },
      "execution_count": 50,
      "outputs": [
        {
          "output_type": "stream",
          "name": "stdout",
          "text": [
            "<class 'pandas.core.frame.DataFrame'>\n",
            "RangeIndex: 146 entries, 0 to 145\n",
            "Data columns (total 5 columns):\n",
            " #   Column  Non-Null Count  Dtype         \n",
            "---  ------  --------------  -----         \n",
            " 0   순위      146 non-null    int64         \n",
            " 1   영화명     146 non-null    object        \n",
            " 2   개봉일     146 non-null    datetime64[ns]\n",
            " 3   개요      146 non-null    object        \n",
            " 4   줄거리     146 non-null    object        \n",
            "dtypes: datetime64[ns](1), int64(1), object(3)\n",
            "memory usage: 5.8+ KB\n"
          ]
        }
      ]
    },
    {
      "cell_type": "code",
      "source": [
        "df['text'] = df['개요'] + df['줄거리']\n",
        "df.head()"
      ],
      "metadata": {
        "id": "yoQH95IJB1n0",
        "colab": {
          "base_uri": "https://localhost:8080/",
          "height": 562
        },
        "outputId": "62fcbc05-9aa3-4a74-b9f8-751fc0727f8b"
      },
      "execution_count": 51,
      "outputs": [
        {
          "output_type": "execute_result",
          "data": {
            "text/plain": [
              "   순위                영화명        개봉일  \\\n",
              "0   1      스파이더맨: 노 웨이 홈 2021-12-15   \n",
              "1   3               이터널스 2021-11-03   \n",
              "2   5    분노의 질주: 더 얼티메이트 2021-05-19   \n",
              "3   6                싱크홀 2021-08-11   \n",
              "4   7  극장판 귀멸의 칼날: 무한열차편 2021-01-27   \n",
              "\n",
              "                                                  개요  \\\n",
              "0  《스파이더맨: 노 웨이 홈》(영어: Spider-Man: No Way Home)은 ...   \n",
              "1  《이터널스》(영어: The Eternals)는 2021년 공개된 미국의 슈퍼히어로 ...   \n",
              "2  \"분노의 질주: 더 얼티메이트\"(영어: F9)는 2021년 공개된 미국의 액션 영화...   \n",
              "3                                                  -   \n",
              "4  《극장판 귀멸의 칼날: 무한열차편》(일본어: 劇場版「鬼滅の刃」無限列車編 영어: De...   \n",
              "\n",
              "                                                 줄거리  \\\n",
              "0  전작 《스파이더맨: 파 프롬 홈》에서 미스테리오가 스파이더맨이 살인자라고 누명을 씌...   \n",
              "1  데비안츠라는 괴물들로부터 인류를 지키고 인류를 진화시키기 위해 신과 같은 존재인 셀...   \n",
              "2  도미닉(빈 디젤)은 자신과 가장 가까웠던 형제 제이콥(존 시나)이 사이퍼(샤를리즈 ...   \n",
              "3                                                  -   \n",
              "4  혈귀술로 사람들을 잠에 빠뜨리는 오니인 엔무(하현 1)가 무한열차에 나타나 탑승자들...   \n",
              "\n",
              "                                                text  \n",
              "0  《스파이더맨: 노 웨이 홈》(영어: Spider-Man: No Way Home)은 ...  \n",
              "1  《이터널스》(영어: The Eternals)는 2021년 공개된 미국의 슈퍼히어로 ...  \n",
              "2  \"분노의 질주: 더 얼티메이트\"(영어: F9)는 2021년 공개된 미국의 액션 영화...  \n",
              "3                                                 --  \n",
              "4  《극장판 귀멸의 칼날: 무한열차편》(일본어: 劇場版「鬼滅の刃」無限列車編 영어: De...  "
            ],
            "text/html": [
              "\n",
              "  <div id=\"df-c42c4c3e-8111-47e9-8c6f-fef88aa656a7\">\n",
              "    <div class=\"colab-df-container\">\n",
              "      <div>\n",
              "<style scoped>\n",
              "    .dataframe tbody tr th:only-of-type {\n",
              "        vertical-align: middle;\n",
              "    }\n",
              "\n",
              "    .dataframe tbody tr th {\n",
              "        vertical-align: top;\n",
              "    }\n",
              "\n",
              "    .dataframe thead th {\n",
              "        text-align: right;\n",
              "    }\n",
              "</style>\n",
              "<table border=\"1\" class=\"dataframe\">\n",
              "  <thead>\n",
              "    <tr style=\"text-align: right;\">\n",
              "      <th></th>\n",
              "      <th>순위</th>\n",
              "      <th>영화명</th>\n",
              "      <th>개봉일</th>\n",
              "      <th>개요</th>\n",
              "      <th>줄거리</th>\n",
              "      <th>text</th>\n",
              "    </tr>\n",
              "  </thead>\n",
              "  <tbody>\n",
              "    <tr>\n",
              "      <th>0</th>\n",
              "      <td>1</td>\n",
              "      <td>스파이더맨: 노 웨이 홈</td>\n",
              "      <td>2021-12-15</td>\n",
              "      <td>《스파이더맨: 노 웨이 홈》(영어: Spider-Man: No Way Home)은 ...</td>\n",
              "      <td>전작 《스파이더맨: 파 프롬 홈》에서 미스테리오가 스파이더맨이 살인자라고 누명을 씌...</td>\n",
              "      <td>《스파이더맨: 노 웨이 홈》(영어: Spider-Man: No Way Home)은 ...</td>\n",
              "    </tr>\n",
              "    <tr>\n",
              "      <th>1</th>\n",
              "      <td>3</td>\n",
              "      <td>이터널스</td>\n",
              "      <td>2021-11-03</td>\n",
              "      <td>《이터널스》(영어: The Eternals)는 2021년 공개된 미국의 슈퍼히어로 ...</td>\n",
              "      <td>데비안츠라는 괴물들로부터 인류를 지키고 인류를 진화시키기 위해 신과 같은 존재인 셀...</td>\n",
              "      <td>《이터널스》(영어: The Eternals)는 2021년 공개된 미국의 슈퍼히어로 ...</td>\n",
              "    </tr>\n",
              "    <tr>\n",
              "      <th>2</th>\n",
              "      <td>5</td>\n",
              "      <td>분노의 질주: 더 얼티메이트</td>\n",
              "      <td>2021-05-19</td>\n",
              "      <td>\"분노의 질주: 더 얼티메이트\"(영어: F9)는 2021년 공개된 미국의 액션 영화...</td>\n",
              "      <td>도미닉(빈 디젤)은 자신과 가장 가까웠던 형제 제이콥(존 시나)이 사이퍼(샤를리즈 ...</td>\n",
              "      <td>\"분노의 질주: 더 얼티메이트\"(영어: F9)는 2021년 공개된 미국의 액션 영화...</td>\n",
              "    </tr>\n",
              "    <tr>\n",
              "      <th>3</th>\n",
              "      <td>6</td>\n",
              "      <td>싱크홀</td>\n",
              "      <td>2021-08-11</td>\n",
              "      <td>-</td>\n",
              "      <td>-</td>\n",
              "      <td>--</td>\n",
              "    </tr>\n",
              "    <tr>\n",
              "      <th>4</th>\n",
              "      <td>7</td>\n",
              "      <td>극장판 귀멸의 칼날: 무한열차편</td>\n",
              "      <td>2021-01-27</td>\n",
              "      <td>《극장판 귀멸의 칼날: 무한열차편》(일본어: 劇場版「鬼滅の刃」無限列車編 영어: De...</td>\n",
              "      <td>혈귀술로 사람들을 잠에 빠뜨리는 오니인 엔무(하현 1)가 무한열차에 나타나 탑승자들...</td>\n",
              "      <td>《극장판 귀멸의 칼날: 무한열차편》(일본어: 劇場版「鬼滅の刃」無限列車編 영어: De...</td>\n",
              "    </tr>\n",
              "  </tbody>\n",
              "</table>\n",
              "</div>\n",
              "      <button class=\"colab-df-convert\" onclick=\"convertToInteractive('df-c42c4c3e-8111-47e9-8c6f-fef88aa656a7')\"\n",
              "              title=\"Convert this dataframe to an interactive table.\"\n",
              "              style=\"display:none;\">\n",
              "        \n",
              "  <svg xmlns=\"http://www.w3.org/2000/svg\" height=\"24px\"viewBox=\"0 0 24 24\"\n",
              "       width=\"24px\">\n",
              "    <path d=\"M0 0h24v24H0V0z\" fill=\"none\"/>\n",
              "    <path d=\"M18.56 5.44l.94 2.06.94-2.06 2.06-.94-2.06-.94-.94-2.06-.94 2.06-2.06.94zm-11 1L8.5 8.5l.94-2.06 2.06-.94-2.06-.94L8.5 2.5l-.94 2.06-2.06.94zm10 10l.94 2.06.94-2.06 2.06-.94-2.06-.94-.94-2.06-.94 2.06-2.06.94z\"/><path d=\"M17.41 7.96l-1.37-1.37c-.4-.4-.92-.59-1.43-.59-.52 0-1.04.2-1.43.59L10.3 9.45l-7.72 7.72c-.78.78-.78 2.05 0 2.83L4 21.41c.39.39.9.59 1.41.59.51 0 1.02-.2 1.41-.59l7.78-7.78 2.81-2.81c.8-.78.8-2.07 0-2.86zM5.41 20L4 18.59l7.72-7.72 1.47 1.35L5.41 20z\"/>\n",
              "  </svg>\n",
              "      </button>\n",
              "      \n",
              "  <style>\n",
              "    .colab-df-container {\n",
              "      display:flex;\n",
              "      flex-wrap:wrap;\n",
              "      gap: 12px;\n",
              "    }\n",
              "\n",
              "    .colab-df-convert {\n",
              "      background-color: #E8F0FE;\n",
              "      border: none;\n",
              "      border-radius: 50%;\n",
              "      cursor: pointer;\n",
              "      display: none;\n",
              "      fill: #1967D2;\n",
              "      height: 32px;\n",
              "      padding: 0 0 0 0;\n",
              "      width: 32px;\n",
              "    }\n",
              "\n",
              "    .colab-df-convert:hover {\n",
              "      background-color: #E2EBFA;\n",
              "      box-shadow: 0px 1px 2px rgba(60, 64, 67, 0.3), 0px 1px 3px 1px rgba(60, 64, 67, 0.15);\n",
              "      fill: #174EA6;\n",
              "    }\n",
              "\n",
              "    [theme=dark] .colab-df-convert {\n",
              "      background-color: #3B4455;\n",
              "      fill: #D2E3FC;\n",
              "    }\n",
              "\n",
              "    [theme=dark] .colab-df-convert:hover {\n",
              "      background-color: #434B5C;\n",
              "      box-shadow: 0px 1px 3px 1px rgba(0, 0, 0, 0.15);\n",
              "      filter: drop-shadow(0px 1px 2px rgba(0, 0, 0, 0.3));\n",
              "      fill: #FFFFFF;\n",
              "    }\n",
              "  </style>\n",
              "\n",
              "      <script>\n",
              "        const buttonEl =\n",
              "          document.querySelector('#df-c42c4c3e-8111-47e9-8c6f-fef88aa656a7 button.colab-df-convert');\n",
              "        buttonEl.style.display =\n",
              "          google.colab.kernel.accessAllowed ? 'block' : 'none';\n",
              "\n",
              "        async function convertToInteractive(key) {\n",
              "          const element = document.querySelector('#df-c42c4c3e-8111-47e9-8c6f-fef88aa656a7');\n",
              "          const dataTable =\n",
              "            await google.colab.kernel.invokeFunction('convertToInteractive',\n",
              "                                                     [key], {});\n",
              "          if (!dataTable) return;\n",
              "\n",
              "          const docLinkHtml = 'Like what you see? Visit the ' +\n",
              "            '<a target=\"_blank\" href=https://colab.research.google.com/notebooks/data_table.ipynb>data table notebook</a>'\n",
              "            + ' to learn more about interactive tables.';\n",
              "          element.innerHTML = '';\n",
              "          dataTable['output_type'] = 'display_data';\n",
              "          await google.colab.output.renderOutput(dataTable, element);\n",
              "          const docLink = document.createElement('div');\n",
              "          docLink.innerHTML = docLinkHtml;\n",
              "          element.appendChild(docLink);\n",
              "        }\n",
              "      </script>\n",
              "    </div>\n",
              "  </div>\n",
              "  "
            ]
          },
          "metadata": {},
          "execution_count": 51
        }
      ]
    },
    {
      "cell_type": "code",
      "source": [
        "df['개요'][0]"
      ],
      "metadata": {
        "id": "fq5_IRXzFLvf",
        "colab": {
          "base_uri": "https://localhost:8080/",
          "height": 90
        },
        "outputId": "9abaab17-3369-4354-d9e2-297aa21d0db0"
      },
      "execution_count": 52,
      "outputs": [
        {
          "output_type": "execute_result",
          "data": {
            "text/plain": [
              "'《스파이더맨: 노 웨이 홈》(영어: Spider-Man: No Way Home)은 2021년 개봉한 미국의 슈퍼히어로 영화이다. 2019년 영화 《스파이더맨: 파 프롬 홈》의 후속작이자, 마블 시네마틱 유니버스(MCU)의 27번째 작품이다. 감독은 전편과 같은 존 왓츠가 맡았으며, 각본 역시 전편에 참여했던 크리스 매케나와 에릭 소머즈가 맡았다.'"
            ],
            "application/vnd.google.colaboratory.intrinsic+json": {
              "type": "string"
            }
          },
          "metadata": {},
          "execution_count": 52
        }
      ]
    },
    {
      "cell_type": "code",
      "source": [
        "df['줄거리'][0]"
      ],
      "metadata": {
        "id": "8jvNLEOLFXm3",
        "colab": {
          "base_uri": "https://localhost:8080/",
          "height": 381
        },
        "outputId": "fb13e28a-7ae8-48af-d1de-46a719ca2634"
      },
      "execution_count": 53,
      "outputs": [
        {
          "output_type": "execute_result",
          "data": {
            "text/plain": [
              "'전작 《스파이더맨: 파 프롬 홈》에서 미스테리오가 스파이더맨이 살인자라고 누명을 씌우고, 정체를 공개한 장면부터 시작된다. 주변 사람들로부터 관심이 쏠린 피터 파커와 MJ는 웹스윙으로 현장을 벗어나 집으로 가지만, 집 근처에도 많은 사람들이 온다. 이후, 피터, MJ, 네드, 큰엄마 메이는 경찰에 조사받는다. 변호사 맷 머독이 증거불충분으로 기소되지는 않는다고 말하지만 대중들은 스파이더맨을 살인자라며 비난한다.\\n\\n미스테리오 때문에 자신의 일상이 엉망이 된 피터, 자신이 끌어들인 네드와 MJ까지 논란으로 인해 MIT 진학이 좌절되자 피터는 닥터 스트레인지를 찾아가 과거를 바꿔달라고 하지만 그는 거절한다. 대신 다른 사람들이 피터 파커가 스파이더맨이었다는 기억을 없애주기로 한다. 그러나 피터는 폭로 이전에 자신의 정체를 알던 이들은 예외로 해달라며 주문을 방해하고 스트레인지의 마법은 실패한다. 이로 인해 오히려 스파이더맨의 정체를 알던 평행우주의 인물들이 넘어오게 된다.\\n\\n피터는 플래시 톰슨의 도움으로 MIT에 한 번 더 기회를 요청하기 위해 공항으로 가던 부총장보를 만나려 한다. 부총장보를 만났지만 갑자기 도로에서 스파이더맨: 트릴로지2의 닥터 옥토퍼스가 나타난다. 피터는 닥터 옥토퍼스를 제압하고 부총장보에게 입학 허가를 받았지만, 2002년 작 스파이더맨의 그린 고블린이 나타난다. 그 때 닥터 스트레인지의 도움으로 생텀으로 온 피터는 닥터 옥토퍼스와 함께 잡혀 있던 어메이징 스파이더맨의 리저드도 보게 된다. 스트레인지는 평행우주의 인물들을 막으려 했지만 일부가 우리 차원으로 넘어왔다고 말하며 피터에게 사건 해결을 촉구한다.\\n\\n네드와 MJ의 도움으로 스파이더맨 3의 샌드맨과 어메이징 스파이더맨 2의 일렉트로를 만나고 둘을 모두 잡게 된다. 사악한 그린 고블린의 인격에서 잠시 벗어난 노먼 오스본은 메이의 일터로 가고, 피터와 함께 생텀의 지하로 간다. 닥터 스트레인지는 그들을 되돌려 보내려고 하지만, 죽을 운명이었던 스파이더맨의 숙적들을 지키기 위해 피터와 스트레인지는 마법 상자를 놓고 싸운다. 스트레인지를 미러 디멘션에 고립시키기에 성공한 피터는 빌런들을 풀어주고 그들의 신체적/정신적 이상을 해결하고 돌려보내기위한 연구를 진행하고 닥터 옥토퍼스를 기계팔의 지배로부터 해방시킨다.\\n\\n그러나 그린 고블린, 일렉트로, 리저드, 샌드맨은 스파이더맨을 공격하고 그 결과 그린 고블린에 의해 메이가 죽는다. 그린 고블린은 피터에게 메이가 말하는 도덕적 의무를 지키면서 자신의 재능을 썩힌다고 조롱하고 피터는 분노한다. 메이는 죽기 전에, 피터에게 \"큰 힘에는 큰 책임이 따른다.\"라는 말을 하고 숨을 거둔다. 데일리 뷰글의 J 조나 제임슨은 스파이더맨이 지나간 자리에는 혼란만이 있다며 비난한다. 피터는 자신을 쫓아 온 데미지 컨트롤의 요원들을 피해 도망간다.\\n\\n한편, MJ와 네드는 피터가 준 닥터 스트레인지의 슬링링으로 피터를 찾으려고 한다. 그렇게 찾은 키가 훤칠한 피터 파커는 그들이 알던 피터가 아닌 어메이징 스파이더맨 시리즈의 앤드류 가필드 버전의 스파이더맨이었다. 다시 피터를 찾기 위해 슬링링을 사용하니, 샘 레이미의 스파이더맨 3부작의 토비 맥과이어 버전의 스파이더맨이 등장한다. 두 스파이더맨은 네드와 MJ의 말을 듣고 피터가 힘들 때 도피처로 쓰던 공간을 찾아간다.\\n\\n피터를 찾아간 친구들과 두 스파이더맨의 도움으로 피터는 다시 일어나고 세 스파이더맨은 데일리 뷰글을 통해 빌런들을 자유의 여신상에서 치료시키려는 계획을 세운다. 그리고 벌어진 세 스파이더맨과 샌드맨, 일렉트로, 리저드의 전투를 벌이고 난입한 닥터 옥토퍼스의 도움으로 셋 모두를 치료하게 된다.\\n\\n네드가 슬링링을 돌리다가 다시 현실로 돌아온 닥터 스트레인지는 이방인들을 원래 차원으로 되돌리려 하지만 그린 고블린이 나타난다. 복수심에 가득 찬 피터는 그린 고블린을 죽일 기세로 때리고 그린 고블린의 글라이더로 그를 찔러 죽이려 하지만 토비 맥과이어의 스파이더맨이 저지한다. 그린 고블린은 피터를 막고 있는 토비 맥과이어의 스파이더맨의 등을 찌르지만 다른 스파이더맨의 호흡으로 모든 숙적들을 치료한다.\\n\\n이방인들의 치료는 끝났지만 닥터 스트레인지는 마법 주문을 억누를 수 없는 상황에 처하고 피터는 피터 파커의 존재를 모든 사람들이 잊는다면 더 이상의 불청객이 오지 않게 될 것이라 스트레인지에게 말한다. 스트레인지는 이를 받아들여 모든 사람들에게서 피터 파커라는 존재의 기억을 지우는 마법을 사용한다. 피터는 다른 세계에서 온 스파이더맨들과 두 친구와 작별인사를 나누고 자신의 존재를 다시 말해주겠다고 약속한다. 다른 세계에서 온 사람들도 원래 세계로 돌아간다.\\n\\n그 후, 모두가 피터를 잊게 되었고 피터는 자취를 시작한다. 메이의 무덤에서 그의 기억을 잊은 해피 호건과 대화를 나누고, 네드와 MJ에게 자신에 대해 말하려 하지만 MJ의 이마에 난 상처를 보고 친구들을 위해 진실을 말하기를 포기한다. 피터 파커는 자신만의 새 스파이더맨 슈트를 만들고 스파이더맨으로서 다시 활약한다.'"
            ],
            "application/vnd.google.colaboratory.intrinsic+json": {
              "type": "string"
            }
          },
          "metadata": {},
          "execution_count": 53
        }
      ]
    },
    {
      "cell_type": "code",
      "source": [
        "df['text'][0]"
      ],
      "metadata": {
        "id": "xNb9CH4WFaZB",
        "colab": {
          "base_uri": "https://localhost:8080/",
          "height": 381
        },
        "outputId": "4c23fa3e-927a-4b1b-f5c2-1ca487497e06"
      },
      "execution_count": 54,
      "outputs": [
        {
          "output_type": "execute_result",
          "data": {
            "text/plain": [
              "'《스파이더맨: 노 웨이 홈》(영어: Spider-Man: No Way Home)은 2021년 개봉한 미국의 슈퍼히어로 영화이다. 2019년 영화 《스파이더맨: 파 프롬 홈》의 후속작이자, 마블 시네마틱 유니버스(MCU)의 27번째 작품이다. 감독은 전편과 같은 존 왓츠가 맡았으며, 각본 역시 전편에 참여했던 크리스 매케나와 에릭 소머즈가 맡았다.전작 《스파이더맨: 파 프롬 홈》에서 미스테리오가 스파이더맨이 살인자라고 누명을 씌우고, 정체를 공개한 장면부터 시작된다. 주변 사람들로부터 관심이 쏠린 피터 파커와 MJ는 웹스윙으로 현장을 벗어나 집으로 가지만, 집 근처에도 많은 사람들이 온다. 이후, 피터, MJ, 네드, 큰엄마 메이는 경찰에 조사받는다. 변호사 맷 머독이 증거불충분으로 기소되지는 않는다고 말하지만 대중들은 스파이더맨을 살인자라며 비난한다.\\n\\n미스테리오 때문에 자신의 일상이 엉망이 된 피터, 자신이 끌어들인 네드와 MJ까지 논란으로 인해 MIT 진학이 좌절되자 피터는 닥터 스트레인지를 찾아가 과거를 바꿔달라고 하지만 그는 거절한다. 대신 다른 사람들이 피터 파커가 스파이더맨이었다는 기억을 없애주기로 한다. 그러나 피터는 폭로 이전에 자신의 정체를 알던 이들은 예외로 해달라며 주문을 방해하고 스트레인지의 마법은 실패한다. 이로 인해 오히려 스파이더맨의 정체를 알던 평행우주의 인물들이 넘어오게 된다.\\n\\n피터는 플래시 톰슨의 도움으로 MIT에 한 번 더 기회를 요청하기 위해 공항으로 가던 부총장보를 만나려 한다. 부총장보를 만났지만 갑자기 도로에서 스파이더맨: 트릴로지2의 닥터 옥토퍼스가 나타난다. 피터는 닥터 옥토퍼스를 제압하고 부총장보에게 입학 허가를 받았지만, 2002년 작 스파이더맨의 그린 고블린이 나타난다. 그 때 닥터 스트레인지의 도움으로 생텀으로 온 피터는 닥터 옥토퍼스와 함께 잡혀 있던 어메이징 스파이더맨의 리저드도 보게 된다. 스트레인지는 평행우주의 인물들을 막으려 했지만 일부가 우리 차원으로 넘어왔다고 말하며 피터에게 사건 해결을 촉구한다.\\n\\n네드와 MJ의 도움으로 스파이더맨 3의 샌드맨과 어메이징 스파이더맨 2의 일렉트로를 만나고 둘을 모두 잡게 된다. 사악한 그린 고블린의 인격에서 잠시 벗어난 노먼 오스본은 메이의 일터로 가고, 피터와 함께 생텀의 지하로 간다. 닥터 스트레인지는 그들을 되돌려 보내려고 하지만, 죽을 운명이었던 스파이더맨의 숙적들을 지키기 위해 피터와 스트레인지는 마법 상자를 놓고 싸운다. 스트레인지를 미러 디멘션에 고립시키기에 성공한 피터는 빌런들을 풀어주고 그들의 신체적/정신적 이상을 해결하고 돌려보내기위한 연구를 진행하고 닥터 옥토퍼스를 기계팔의 지배로부터 해방시킨다.\\n\\n그러나 그린 고블린, 일렉트로, 리저드, 샌드맨은 스파이더맨을 공격하고 그 결과 그린 고블린에 의해 메이가 죽는다. 그린 고블린은 피터에게 메이가 말하는 도덕적 의무를 지키면서 자신의 재능을 썩힌다고 조롱하고 피터는 분노한다. 메이는 죽기 전에, 피터에게 \"큰 힘에는 큰 책임이 따른다.\"라는 말을 하고 숨을 거둔다. 데일리 뷰글의 J 조나 제임슨은 스파이더맨이 지나간 자리에는 혼란만이 있다며 비난한다. 피터는 자신을 쫓아 온 데미지 컨트롤의 요원들을 피해 도망간다.\\n\\n한편, MJ와 네드는 피터가 준 닥터 스트레인지의 슬링링으로 피터를 찾으려고 한다. 그렇게 찾은 키가 훤칠한 피터 파커는 그들이 알던 피터가 아닌 어메이징 스파이더맨 시리즈의 앤드류 가필드 버전의 스파이더맨이었다. 다시 피터를 찾기 위해 슬링링을 사용하니, 샘 레이미의 스파이더맨 3부작의 토비 맥과이어 버전의 스파이더맨이 등장한다. 두 스파이더맨은 네드와 MJ의 말을 듣고 피터가 힘들 때 도피처로 쓰던 공간을 찾아간다.\\n\\n피터를 찾아간 친구들과 두 스파이더맨의 도움으로 피터는 다시 일어나고 세 스파이더맨은 데일리 뷰글을 통해 빌런들을 자유의 여신상에서 치료시키려는 계획을 세운다. 그리고 벌어진 세 스파이더맨과 샌드맨, 일렉트로, 리저드의 전투를 벌이고 난입한 닥터 옥토퍼스의 도움으로 셋 모두를 치료하게 된다.\\n\\n네드가 슬링링을 돌리다가 다시 현실로 돌아온 닥터 스트레인지는 이방인들을 원래 차원으로 되돌리려 하지만 그린 고블린이 나타난다. 복수심에 가득 찬 피터는 그린 고블린을 죽일 기세로 때리고 그린 고블린의 글라이더로 그를 찔러 죽이려 하지만 토비 맥과이어의 스파이더맨이 저지한다. 그린 고블린은 피터를 막고 있는 토비 맥과이어의 스파이더맨의 등을 찌르지만 다른 스파이더맨의 호흡으로 모든 숙적들을 치료한다.\\n\\n이방인들의 치료는 끝났지만 닥터 스트레인지는 마법 주문을 억누를 수 없는 상황에 처하고 피터는 피터 파커의 존재를 모든 사람들이 잊는다면 더 이상의 불청객이 오지 않게 될 것이라 스트레인지에게 말한다. 스트레인지는 이를 받아들여 모든 사람들에게서 피터 파커라는 존재의 기억을 지우는 마법을 사용한다. 피터는 다른 세계에서 온 스파이더맨들과 두 친구와 작별인사를 나누고 자신의 존재를 다시 말해주겠다고 약속한다. 다른 세계에서 온 사람들도 원래 세계로 돌아간다.\\n\\n그 후, 모두가 피터를 잊게 되었고 피터는 자취를 시작한다. 메이의 무덤에서 그의 기억을 잊은 해피 호건과 대화를 나누고, 네드와 MJ에게 자신에 대해 말하려 하지만 MJ의 이마에 난 상처를 보고 친구들을 위해 진실을 말하기를 포기한다. 피터 파커는 자신만의 새 스파이더맨 슈트를 만들고 스파이더맨으로서 다시 활약한다.'"
            ],
            "application/vnd.google.colaboratory.intrinsic+json": {
              "type": "string"
            }
          },
          "metadata": {},
          "execution_count": 54
        }
      ]
    },
    {
      "cell_type": "markdown",
      "source": [
        "4. 분리하지 않기 원하는 단어 설정"
      ],
      "metadata": {
        "id": "HHjKlhi9Frzz"
      }
    },
    {
      "cell_type": "code",
      "source": [
        "from konlpy.tag import Okt\n",
        "okt = Okt()\n",
        "okt.pos('닥터 스트레인지는 스파이더맨에 나온다.')"
      ],
      "metadata": {
        "colab": {
          "base_uri": "https://localhost:8080/"
        },
        "id": "eMSfWgkgFlNu",
        "outputId": "c0c33132-ef40-48ba-8986-bf90aedfb5df"
      },
      "execution_count": 55,
      "outputs": [
        {
          "output_type": "execute_result",
          "data": {
            "text/plain": [
              "[('닥터', 'Noun'),\n",
              " ('스', 'Noun'),\n",
              " ('트레인', 'Noun'),\n",
              " ('지는', 'Josa'),\n",
              " ('스파이더맨', 'Noun'),\n",
              " ('에', 'Josa'),\n",
              " ('나온다', 'Verb'),\n",
              " ('.', 'Punctuation')]"
            ]
          },
          "metadata": {},
          "execution_count": 55
        }
      ]
    },
    {
      "cell_type": "code",
      "source": [
        "import os\n",
        "os.chdir('/usr/local/lib/python3.8/dist-packages/konlpy/java')\n",
        "os.getcwd()"
      ],
      "metadata": {
        "colab": {
          "base_uri": "https://localhost:8080/",
          "height": 35
        },
        "id": "9ALrnrXRGKdY",
        "outputId": "b308c1ed-1a38-47f0-eace-91be0de84511"
      },
      "execution_count": 56,
      "outputs": [
        {
          "output_type": "execute_result",
          "data": {
            "text/plain": [
              "'/usr/local/lib/python3.8/dist-packages/konlpy/java'"
            ],
            "application/vnd.google.colaboratory.intrinsic+json": {
              "type": "string"
            }
          },
          "metadata": {},
          "execution_count": 56
        }
      ]
    },
    {
      "cell_type": "markdown",
      "source": [
        "위의 코드가 실행되지 않는다면 konlpy가 다운로드 된 경로가 잘못된 것 \n",
        "\n",
        "밑에 코드로 경로를 찾자"
      ],
      "metadata": {
        "id": "m01RbVieHH_W"
      }
    },
    {
      "cell_type": "code",
      "source": [
        "import konlpy\n",
        "konlpy .__path__"
      ],
      "metadata": {
        "colab": {
          "base_uri": "https://localhost:8080/"
        },
        "id": "Y1069pDPGkwU",
        "outputId": "a140515f-0a01-4292-930c-9106625215e8"
      },
      "execution_count": 57,
      "outputs": [
        {
          "output_type": "execute_result",
          "data": {
            "text/plain": [
              "['/usr/local/lib/python3.8/dist-packages/konlpy']"
            ]
          },
          "metadata": {},
          "execution_count": 57
        }
      ]
    },
    {
      "cell_type": "code",
      "source": [
        "!mkdir tmp # 폴더를 만들어 줌"
      ],
      "metadata": {
        "id": "eSB6a1cZHA5g"
      },
      "execution_count": 58,
      "outputs": []
    },
    {
      "cell_type": "code",
      "source": [
        "os.chdir('/usr/local/lib/python3.8/dist-packages/konlpy/java/tmp') \n",
        "# 아까 자바라는 통로로 이동하겠다는 의미\n",
        "os.getcwd()"
      ],
      "metadata": {
        "colab": {
          "base_uri": "https://localhost:8080/",
          "height": 35
        },
        "id": "P9XKORgiIqcU",
        "outputId": "4ff7faab-367a-4289-f156-d0f552bd83c9"
      },
      "execution_count": 59,
      "outputs": [
        {
          "output_type": "execute_result",
          "data": {
            "text/plain": [
              "'/usr/local/lib/python3.8/dist-packages/konlpy/java/tmp'"
            ],
            "application/vnd.google.colaboratory.intrinsic+json": {
              "type": "string"
            }
          },
          "metadata": {},
          "execution_count": 59
        }
      ]
    },
    {
      "cell_type": "code",
      "source": [
        "!ls ../"
      ],
      "metadata": {
        "colab": {
          "base_uri": "https://localhost:8080/"
        },
        "id": "LYxKhi9YHdq5",
        "outputId": "8d433f52-5fc8-4f2f-fecd-4a5364ce8344"
      },
      "execution_count": 60,
      "outputs": [
        {
          "output_type": "stream",
          "name": "stdout",
          "text": [
            "aho-corasick.jar     kkma-2.0.jar\t\t shineware-ds-1.0.jar\n",
            "bin\t\t     komoran-3.0.jar\t\t snakeyaml-1.12.jar\n",
            "conf\t\t     open-korean-text-2.1.0.jar  tmp\n",
            "data\t\t     scala-library-2.12.3.jar\t twitter-text-1.14.7.jar\n",
            "jhannanum-0.8.4.jar  shineware-common-1.0.jar\n"
          ]
        }
      ]
    },
    {
      "cell_type": "code",
      "source": [
        "!jar xvf ../open-korean-text-2.1.0.jar \n",
        "# open-korean-text-2.1.0.jar의 압축을 풀겠다"
      ],
      "metadata": {
        "id": "b4W5cttYIAqv",
        "colab": {
          "base_uri": "https://localhost:8080/"
        },
        "outputId": "c56eb189-68bf-4973-9a46-f6e117d09ba8"
      },
      "execution_count": 61,
      "outputs": [
        {
          "output_type": "stream",
          "name": "stdout",
          "text": [
            "  created: META-INF/\n",
            " inflated: META-INF/MANIFEST.MF\n",
            "  created: org/\n",
            "  created: org/openkoreantext/\n",
            "  created: org/openkoreantext/processor/\n",
            "  created: org/openkoreantext/processor/normalizer/\n",
            "  created: org/openkoreantext/processor/phrase_extractor/\n",
            "  created: org/openkoreantext/processor/qa/\n",
            "  created: org/openkoreantext/processor/stemmer/\n",
            "  created: org/openkoreantext/processor/tokenizer/\n",
            "  created: org/openkoreantext/processor/tools/\n",
            "  created: org/openkoreantext/processor/util/\n",
            "  created: org/openkoreantext/processor/util/adjective/\n",
            "  created: org/openkoreantext/processor/util/adverb/\n",
            "  created: org/openkoreantext/processor/util/auxiliary/\n",
            "  created: org/openkoreantext/processor/util/freq/\n",
            "  created: org/openkoreantext/processor/util/josa/\n",
            "  created: org/openkoreantext/processor/util/noun/\n",
            "  created: org/openkoreantext/processor/util/substantives/\n",
            "  created: org/openkoreantext/processor/util/typos/\n",
            "  created: org/openkoreantext/processor/util/verb/\n",
            " inflated: org/openkoreantext/processor/KoreanPosJava.class\n",
            " inflated: org/openkoreantext/processor/KoreanTokenJava.class\n",
            " inflated: org/openkoreantext/processor/normalizer/KoreanNormalizer$.class\n",
            " inflated: org/openkoreantext/processor/normalizer/KoreanNormalizer$Segment$.class\n",
            " inflated: org/openkoreantext/processor/normalizer/KoreanNormalizer$Segment.class\n",
            " inflated: org/openkoreantext/processor/normalizer/KoreanNormalizer.class\n",
            " inflated: org/openkoreantext/processor/OpenKoreanTextProcessor$.class\n",
            " inflated: org/openkoreantext/processor/OpenKoreanTextProcessor.class\n",
            " inflated: org/openkoreantext/processor/OpenKoreanTextProcessorJava.class\n",
            " inflated: org/openkoreantext/processor/phrase_extractor/KoreanPhraseExtractor$.class\n",
            " inflated: org/openkoreantext/processor/phrase_extractor/KoreanPhraseExtractor$KoreanPhrase$.class\n",
            " inflated: org/openkoreantext/processor/phrase_extractor/KoreanPhraseExtractor$KoreanPhrase.class\n",
            " inflated: org/openkoreantext/processor/phrase_extractor/KoreanPhraseExtractor$PhraseBuffer$.class\n",
            " inflated: org/openkoreantext/processor/phrase_extractor/KoreanPhraseExtractor$PhraseBuffer.class\n",
            " inflated: org/openkoreantext/processor/phrase_extractor/KoreanPhraseExtractor.class\n",
            " inflated: org/openkoreantext/processor/qa/BatchGetUnknownNouns$.class\n",
            " inflated: org/openkoreantext/processor/qa/BatchGetUnknownNouns$ChunkWithTweet$.class\n",
            " inflated: org/openkoreantext/processor/qa/BatchGetUnknownNouns$ChunkWithTweet.class\n",
            " inflated: org/openkoreantext/processor/qa/BatchGetUnknownNouns.class\n",
            " inflated: org/openkoreantext/processor/qa/BatchTokenizeTweets$.class\n",
            " inflated: org/openkoreantext/processor/qa/BatchTokenizeTweets$ParseTime$.class\n",
            " inflated: org/openkoreantext/processor/qa/BatchTokenizeTweets$ParseTime.class\n",
            " inflated: org/openkoreantext/processor/qa/BatchTokenizeTweets.class\n",
            " inflated: org/openkoreantext/processor/qa/KoreanProcessorSandbox$.class\n",
            " inflated: org/openkoreantext/processor/qa/KoreanProcessorSandbox.class\n",
            " inflated: org/openkoreantext/processor/stemmer/KoreanStemmer$.class\n",
            " inflated: org/openkoreantext/processor/stemmer/KoreanStemmer.class\n",
            " inflated: org/openkoreantext/processor/tokenizer/KoreanChunk$.class\n",
            " inflated: org/openkoreantext/processor/tokenizer/KoreanChunk.class\n",
            " inflated: org/openkoreantext/processor/tokenizer/KoreanChunker$.class\n",
            " inflated: org/openkoreantext/processor/tokenizer/KoreanChunker$ChunkMatch$.class\n",
            " inflated: org/openkoreantext/processor/tokenizer/KoreanChunker$ChunkMatch.class\n",
            " inflated: org/openkoreantext/processor/tokenizer/KoreanChunker.class\n",
            " inflated: org/openkoreantext/processor/tokenizer/KoreanDetokenizer$.class\n",
            " inflated: org/openkoreantext/processor/tokenizer/KoreanDetokenizer.class\n",
            " inflated: org/openkoreantext/processor/tokenizer/KoreanSentenceSplitter$.class\n",
            " inflated: org/openkoreantext/processor/tokenizer/KoreanSentenceSplitter.class\n",
            " inflated: org/openkoreantext/processor/tokenizer/KoreanTokenizer$.class\n",
            " inflated: org/openkoreantext/processor/tokenizer/KoreanTokenizer$CandidateParse$.class\n",
            " inflated: org/openkoreantext/processor/tokenizer/KoreanTokenizer$CandidateParse.class\n",
            " inflated: org/openkoreantext/processor/tokenizer/KoreanTokenizer$KoreanToken$.class\n",
            " inflated: org/openkoreantext/processor/tokenizer/KoreanTokenizer$KoreanToken.class\n",
            " inflated: org/openkoreantext/processor/tokenizer/KoreanTokenizer$PossibleTrie$.class\n",
            " inflated: org/openkoreantext/processor/tokenizer/KoreanTokenizer$PossibleTrie.class\n",
            " inflated: org/openkoreantext/processor/tokenizer/KoreanTokenizer.class\n",
            " inflated: org/openkoreantext/processor/tokenizer/ParsedChunk$.class\n",
            " inflated: org/openkoreantext/processor/tokenizer/ParsedChunk.class\n",
            " inflated: org/openkoreantext/processor/tokenizer/Sentence$.class\n",
            " inflated: org/openkoreantext/processor/tokenizer/Sentence.class\n",
            " inflated: org/openkoreantext/processor/tokenizer/TokenizerProfile$.class\n",
            " inflated: org/openkoreantext/processor/tokenizer/TokenizerProfile.class\n",
            " inflated: org/openkoreantext/processor/tools/CreateChunkParsingCandidates$.class\n",
            " inflated: org/openkoreantext/processor/tools/CreateChunkParsingCandidates.class\n",
            " inflated: org/openkoreantext/processor/tools/CreateConjugationExamples$.class\n",
            " inflated: org/openkoreantext/processor/tools/CreateConjugationExamples$ConjugationExample$.class\n",
            " inflated: org/openkoreantext/processor/tools/CreateConjugationExamples$ConjugationExample.class\n",
            " inflated: org/openkoreantext/processor/tools/CreateConjugationExamples.class\n",
            " inflated: org/openkoreantext/processor/tools/CreateParsingExamples$.class\n",
            " inflated: org/openkoreantext/processor/tools/CreateParsingExamples$ParsingExample$.class\n",
            " inflated: org/openkoreantext/processor/tools/CreateParsingExamples$ParsingExample.class\n",
            " inflated: org/openkoreantext/processor/tools/CreateParsingExamples.class\n",
            " inflated: org/openkoreantext/processor/tools/CreatePhraseExtractionExamples$.class\n",
            " inflated: org/openkoreantext/processor/tools/CreatePhraseExtractionExamples$PhraseExample$.class\n",
            " inflated: org/openkoreantext/processor/tools/CreatePhraseExtractionExamples$PhraseExample.class\n",
            " inflated: org/openkoreantext/processor/tools/CreatePhraseExtractionExamples.class\n",
            " inflated: org/openkoreantext/processor/tools/DeduplicateAndSortDictionaries$.class\n",
            " inflated: org/openkoreantext/processor/tools/DeduplicateAndSortDictionaries.class\n",
            " inflated: org/openkoreantext/processor/tools/Runnable.class\n",
            " inflated: org/openkoreantext/processor/tools/UpdateAllTheExamples$.class\n",
            " inflated: org/openkoreantext/processor/tools/UpdateAllTheExamples.class\n",
            " inflated: org/openkoreantext/processor/util/adjective/adjective.txt\n",
            " inflated: org/openkoreantext/processor/util/adverb/adverb.txt\n",
            " inflated: org/openkoreantext/processor/util/auxiliary/conjunctions.txt\n",
            " inflated: org/openkoreantext/processor/util/auxiliary/determiner.txt\n",
            " inflated: org/openkoreantext/processor/util/auxiliary/exclamation.txt\n",
            " inflated: org/openkoreantext/processor/util/CharacterUtils$CharacterBuffer.class\n",
            " inflated: org/openkoreantext/processor/util/CharacterUtils$Java4CharacterUtils.class\n",
            " inflated: org/openkoreantext/processor/util/CharacterUtils$Java5CharacterUtils.class\n",
            " inflated: org/openkoreantext/processor/util/CharacterUtils.class\n",
            " inflated: org/openkoreantext/processor/util/CharArrayMap$1.class\n",
            " inflated: org/openkoreantext/processor/util/CharArrayMap$EmptyCharArrayMap.class\n",
            " inflated: org/openkoreantext/processor/util/CharArrayMap$EntryIterator.class\n",
            " inflated: org/openkoreantext/processor/util/CharArrayMap$EntrySet.class\n",
            " inflated: org/openkoreantext/processor/util/CharArrayMap$MapEntry.class\n",
            " inflated: org/openkoreantext/processor/util/CharArrayMap$UnmodifiableCharArrayMap.class\n",
            " inflated: org/openkoreantext/processor/util/CharArrayMap.class\n",
            " inflated: org/openkoreantext/processor/util/CharArraySet.class\n",
            " inflated: org/openkoreantext/processor/util/example_chunks.txt\n",
            " inflated: org/openkoreantext/processor/util/example_tweets.txt\n",
            " inflated: org/openkoreantext/processor/util/freq/entity-freq.txt.gz\n",
            " inflated: org/openkoreantext/processor/util/Hangul$.class\n",
            " inflated: org/openkoreantext/processor/util/Hangul$DoubleCoda$.class\n",
            " inflated: org/openkoreantext/processor/util/Hangul$DoubleCoda.class\n",
            " inflated: org/openkoreantext/processor/util/Hangul$HangulChar$.class\n",
            " inflated: org/openkoreantext/processor/util/Hangul$HangulChar.class\n",
            " inflated: org/openkoreantext/processor/util/Hangul.class\n",
            " inflated: org/openkoreantext/processor/util/josa/josa.txt\n",
            " inflated: org/openkoreantext/processor/util/KoreanConjugation$.class\n",
            " inflated: org/openkoreantext/processor/util/KoreanConjugation.class\n",
            " inflated: org/openkoreantext/processor/util/KoreanDictionaryProvider$.class\n",
            " inflated: org/openkoreantext/processor/util/KoreanDictionaryProvider.class\n",
            " inflated: org/openkoreantext/processor/util/KoreanPos$.class\n",
            " inflated: org/openkoreantext/processor/util/KoreanPos$KoreanPosTrie$.class\n",
            " inflated: org/openkoreantext/processor/util/KoreanPos$KoreanPosTrie.class\n",
            " inflated: org/openkoreantext/processor/util/KoreanPos.class\n",
            " inflated: org/openkoreantext/processor/util/KoreanSubstantive$.class\n",
            " inflated: org/openkoreantext/processor/util/KoreanSubstantive.class\n",
            " inflated: org/openkoreantext/processor/util/noun/bible.txt\n",
            " inflated: org/openkoreantext/processor/util/noun/company_names.txt\n",
            " inflated: org/openkoreantext/processor/util/noun/congress.txt\n",
            " inflated: org/openkoreantext/processor/util/noun/entities.txt\n",
            " inflated: org/openkoreantext/processor/util/noun/foreign.txt\n",
            " inflated: org/openkoreantext/processor/util/noun/geolocations.txt\n",
            " inflated: org/openkoreantext/processor/util/noun/kpop.txt\n",
            " inflated: org/openkoreantext/processor/util/noun/lol.txt\n",
            " inflated: org/openkoreantext/processor/util/noun/names.txt\n",
            " inflated: org/openkoreantext/processor/util/noun/nouns.txt\n",
            " inflated: org/openkoreantext/processor/util/noun/pokemon.txt\n",
            " inflated: org/openkoreantext/processor/util/noun/profane.txt\n",
            " inflated: org/openkoreantext/processor/util/noun/slangs.txt\n",
            " inflated: org/openkoreantext/processor/util/noun/spam.txt\n",
            " inflated: org/openkoreantext/processor/util/noun/twitter.txt\n",
            " inflated: org/openkoreantext/processor/util/noun/wikipedia_title_nouns.txt\n",
            " inflated: org/openkoreantext/processor/util/substantives/family_names.txt\n",
            " inflated: org/openkoreantext/processor/util/substantives/given_names.txt\n",
            " inflated: org/openkoreantext/processor/util/substantives/modifier.txt\n",
            " inflated: org/openkoreantext/processor/util/substantives/suffix.txt\n",
            " inflated: org/openkoreantext/processor/util/typos/typos.txt\n",
            " inflated: org/openkoreantext/processor/util/verb/eomi.txt\n",
            " inflated: org/openkoreantext/processor/util/verb/pre_eomi.txt\n",
            " inflated: org/openkoreantext/processor/util/verb/verb.txt\n",
            " inflated: org/openkoreantext/processor/util/verb/verb_prefix.txt\n",
            "  created: META-INF/maven/\n",
            "  created: META-INF/maven/org.openkoreantext/\n",
            "  created: META-INF/maven/org.openkoreantext/open-korean-text/\n",
            " inflated: META-INF/maven/org.openkoreantext/open-korean-text/pom.xml\n",
            " inflated: META-INF/maven/org.openkoreantext/open-korean-text/pom.properties\n"
          ]
        }
      ]
    },
    {
      "cell_type": "code",
      "source": [
        "with open(\"/usr/local/lib/python3.8/dist-packages/konlpy/java/tmp/org/openkoreantext/processor/util/noun/names.txt\") as f:\n",
        "    names = f.read()\n",
        "names"
      ],
      "metadata": {
        "id": "mPQy03ObKCVl",
        "colab": {
          "base_uri": "https://localhost:8080/",
          "height": 181
        },
        "outputId": "d5268d6e-95a7-431e-bbca-32cbb8f31185"
      },
      "execution_count": 62,
      "outputs": [
        {
          "output_type": "execute_result",
          "data": {
            "text/plain": [
              "'가몽\\n가온\\n갓세븐\\n강새이\\n게임닉가\\n관우\\n귀여미\\n규\\n김유이\\n김준면\\n까까런\\n노컷\\n누너예\\n니노\\n다마고치\\n다이무스\\n대학생\\n데이브\\n도요토미\\n동운\\n동이\\n두주니\\n디시인사이드\\n디오\\n라몹\\n라스\\n라옵\\n멍구\\n메이든\\n명덕\\n명량\\n문민정부\\n미네\\n방엘리\\n병헌\\n붓다\\n비정상회담\\n빼빼로\\n삼풍\\n샤인온미\\n성식\\n성열\\n세라문\\n세라복\\n세종대왕\\n손권\\n손책\\n쇼미더머니\\n쇼챔\\n순규\\n스라소니\\n신동아\\n신쓰패밀리\\n신아라\\n아베\\n안상홍\\n안홍준\\n여누\\n여랑\\n여포\\n연합\\n오꾸닭\\n요섭\\n웃찾사\\n원식\\n유병언\\n유비\\n유이\\n윤기형\\n이나단\\n이명박\\n이완용\\n임창용\\n자괴\\n자니윤\\n자대련\\n자유\\n재중이\\n전교조\\n정윤회\\n제갈량\\n조자룡\\n조조\\n준면\\n지오디\\n지존파\\n진영오\\n차작가\\n차트\\n창섭\\n챠트\\n첸\\n코르사주\\n하무열\\n하용파쿠\\n혁재\\n현이\\n현태\\n혜미\\n'"
            ],
            "application/vnd.google.colaboratory.intrinsic+json": {
              "type": "string"
            }
          },
          "metadata": {},
          "execution_count": 62
        }
      ]
    },
    {
      "cell_type": "code",
      "source": [
        "names += '스트레인지\\n'"
      ],
      "metadata": {
        "id": "fbi2_KrMKs3n"
      },
      "execution_count": 63,
      "outputs": []
    },
    {
      "cell_type": "code",
      "source": [
        "with open(\"/usr/local/lib/python3.8/dist-packages/konlpy/java/tmp/org/openkoreantext/processor/util/noun/names.txt\",'w') as f:\n",
        "    f.write(names)"
      ],
      "metadata": {
        "id": "DcYJW1YZLPvI"
      },
      "execution_count": 64,
      "outputs": []
    },
    {
      "cell_type": "code",
      "source": [
        "os.getcwd()"
      ],
      "metadata": {
        "colab": {
          "base_uri": "https://localhost:8080/",
          "height": 35
        },
        "id": "AHOen9cJLeDt",
        "outputId": "8b4993c5-6ddf-4880-8914-4a080b0bea63"
      },
      "execution_count": 65,
      "outputs": [
        {
          "output_type": "execute_result",
          "data": {
            "text/plain": [
              "'/usr/local/lib/python3.8/dist-packages/konlpy/java/tmp'"
            ],
            "application/vnd.google.colaboratory.intrinsic+json": {
              "type": "string"
            }
          },
          "metadata": {},
          "execution_count": 65
        }
      ]
    },
    {
      "cell_type": "code",
      "source": [
        "!jar cvf ../open-korean-text-2.1.0.jar *"
      ],
      "metadata": {
        "id": "4ikfciDwLiPA",
        "colab": {
          "base_uri": "https://localhost:8080/"
        },
        "outputId": "0c99731b-c28f-495a-f951-c2706fd20dde"
      },
      "execution_count": 66,
      "outputs": [
        {
          "output_type": "stream",
          "name": "stdout",
          "text": [
            "added manifest\n",
            "ignoring entry META-INF/\n",
            "adding: META-INF/maven/(in = 0) (out= 0)(stored 0%)\n",
            "adding: META-INF/maven/org.openkoreantext/(in = 0) (out= 0)(stored 0%)\n",
            "adding: META-INF/maven/org.openkoreantext/open-korean-text/(in = 0) (out= 0)(stored 0%)\n",
            "adding: META-INF/maven/org.openkoreantext/open-korean-text/pom.xml(in = 9127) (out= 2208)(deflated 75%)\n",
            "adding: META-INF/maven/org.openkoreantext/open-korean-text/pom.properties(in = 119) (out= 110)(deflated 7%)\n",
            "ignoring entry META-INF/MANIFEST.MF\n",
            "adding: org/(in = 0) (out= 0)(stored 0%)\n",
            "adding: org/openkoreantext/(in = 0) (out= 0)(stored 0%)\n",
            "adding: org/openkoreantext/processor/(in = 0) (out= 0)(stored 0%)\n",
            "adding: org/openkoreantext/processor/OpenKoreanTextProcessor$.class(in = 7716) (out= 2400)(deflated 68%)\n",
            "adding: org/openkoreantext/processor/tokenizer/(in = 0) (out= 0)(stored 0%)\n",
            "adding: org/openkoreantext/processor/tokenizer/KoreanTokenizer.class(in = 6968) (out= 4384)(deflated 37%)\n",
            "adding: org/openkoreantext/processor/tokenizer/KoreanTokenizer$CandidateParse.class(in = 4616) (out= 1645)(deflated 64%)\n",
            "adding: org/openkoreantext/processor/tokenizer/KoreanSentenceSplitter.class(in = 1092) (out= 712)(deflated 34%)\n",
            "adding: org/openkoreantext/processor/tokenizer/ParsedChunk$.class(in = 3973) (out= 1500)(deflated 62%)\n",
            "adding: org/openkoreantext/processor/tokenizer/KoreanDetokenizer.class(in = 1660) (out= 1133)(deflated 31%)\n",
            "adding: org/openkoreantext/processor/tokenizer/KoreanChunker$.class(in = 17975) (out= 6790)(deflated 62%)\n",
            "adding: org/openkoreantext/processor/tokenizer/KoreanChunker$ChunkMatch$.class(in = 2893) (out= 1136)(deflated 60%)\n",
            "adding: org/openkoreantext/processor/tokenizer/KoreanChunker.class(in = 4232) (out= 2887)(deflated 31%)\n",
            "adding: org/openkoreantext/processor/tokenizer/KoreanTokenizer$KoreanToken$.class(in = 3976) (out= 1402)(deflated 64%)\n",
            "adding: org/openkoreantext/processor/tokenizer/KoreanDetokenizer$.class(in = 9889) (out= 4174)(deflated 57%)\n",
            "adding: org/openkoreantext/processor/tokenizer/KoreanTokenizer$CandidateParse$.class(in = 3459) (out= 1111)(deflated 67%)\n",
            "adding: org/openkoreantext/processor/tokenizer/Sentence$.class(in = 2339) (out= 1012)(deflated 56%)\n",
            "adding: org/openkoreantext/processor/tokenizer/KoreanSentenceSplitter$.class(in = 3359) (out= 1497)(deflated 55%)\n",
            "adding: org/openkoreantext/processor/tokenizer/ParsedChunk.class(in = 20517) (out= 8914)(deflated 56%)\n",
            "adding: org/openkoreantext/processor/tokenizer/TokenizerProfile.class(in = 16403) (out= 6666)(deflated 59%)\n",
            "adding: org/openkoreantext/processor/tokenizer/Sentence.class(in = 5985) (out= 3125)(deflated 47%)\n",
            "adding: org/openkoreantext/processor/tokenizer/KoreanChunk$.class(in = 2361) (out= 1010)(deflated 57%)\n",
            "adding: org/openkoreantext/processor/tokenizer/KoreanTokenizer$PossibleTrie.class(in = 3399) (out= 1429)(deflated 57%)\n",
            "adding: org/openkoreantext/processor/tokenizer/KoreanTokenizer$PossibleTrie$.class(in = 2862) (out= 1067)(deflated 62%)\n",
            "adding: org/openkoreantext/processor/tokenizer/KoreanTokenizer$.class(in = 25564) (out= 8451)(deflated 66%)\n",
            "adding: org/openkoreantext/processor/tokenizer/TokenizerProfile$.class(in = 8169) (out= 2408)(deflated 70%)\n",
            "adding: org/openkoreantext/processor/tokenizer/KoreanChunk.class(in = 5611) (out= 2907)(deflated 48%)\n",
            "adding: org/openkoreantext/processor/tokenizer/KoreanTokenizer$KoreanToken.class(in = 6336) (out= 2633)(deflated 58%)\n",
            "adding: org/openkoreantext/processor/tokenizer/KoreanChunker$ChunkMatch.class(in = 4043) (out= 1704)(deflated 57%)\n",
            "adding: org/openkoreantext/processor/KoreanPosJava.class(in = 2457) (out= 1241)(deflated 49%)\n",
            "adding: org/openkoreantext/processor/util/(in = 0) (out= 0)(stored 0%)\n",
            "adding: org/openkoreantext/processor/util/KoreanPos$KoreanPosTrie.class(in = 4390) (out= 1610)(deflated 63%)\n",
            "adding: org/openkoreantext/processor/util/typos/(in = 0) (out= 0)(stored 0%)\n",
            "adding: org/openkoreantext/processor/util/typos/typos.txt(in = 5146) (out= 2300)(deflated 55%)\n",
            "adding: org/openkoreantext/processor/util/CharArrayMap.class(in = 11923) (out= 4878)(deflated 59%)\n",
            "adding: org/openkoreantext/processor/util/CharArrayMap$EntryIterator.class(in = 3118) (out= 1270)(deflated 59%)\n",
            "adding: org/openkoreantext/processor/util/CharacterUtils$Java5CharacterUtils.class(in = 2824) (out= 1393)(deflated 50%)\n",
            "adding: org/openkoreantext/processor/util/CharArrayMap$MapEntry.class(in = 2433) (out= 1078)(deflated 55%)\n",
            "adding: org/openkoreantext/processor/util/KoreanDictionaryProvider.class(in = 3430) (out= 2003)(deflated 41%)\n",
            "adding: org/openkoreantext/processor/util/Hangul$DoubleCoda.class(in = 2930) (out= 1348)(deflated 53%)\n",
            "adding: org/openkoreantext/processor/util/Hangul$DoubleCoda$.class(in = 2155) (out= 963)(deflated 55%)\n",
            "adding: org/openkoreantext/processor/util/example_tweets.txt(in = 86271) (out= 38336)(deflated 55%)\n",
            "adding: org/openkoreantext/processor/util/adverb/(in = 0) (out= 0)(stored 0%)\n",
            "adding: org/openkoreantext/processor/util/adverb/adverb.txt(in = 65572) (out= 18741)(deflated 71%)\n",
            "adding: org/openkoreantext/processor/util/KoreanPos$.class(in = 12173) (out= 4669)(deflated 61%)\n",
            "adding: org/openkoreantext/processor/util/noun/(in = 0) (out= 0)(stored 0%)\n",
            "adding: org/openkoreantext/processor/util/noun/nouns.txt(in = 219319) (out= 84134)(deflated 61%)\n",
            "adding: org/openkoreantext/processor/util/noun/profane.txt(in = 569) (out= 337)(deflated 40%)\n",
            "adding: org/openkoreantext/processor/util/noun/foreign.txt(in = 10485) (out= 4686)(deflated 55%)\n",
            "adding: org/openkoreantext/processor/util/noun/congress.txt(in = 26494) (out= 9351)(deflated 64%)\n",
            "adding: org/openkoreantext/processor/util/noun/pokemon.txt(in = 1781) (out= 965)(deflated 45%)\n",
            "adding: org/openkoreantext/processor/util/noun/lol.txt(in = 1337) (out= 744)(deflated 44%)\n",
            "adding: org/openkoreantext/processor/util/noun/geolocations.txt(in = 5423) (out= 2267)(deflated 58%)\n",
            "adding: org/openkoreantext/processor/util/noun/names.txt(in = 919) (out= 558)(deflated 39%)\n",
            "adding: org/openkoreantext/processor/util/noun/wikipedia_title_nouns.txt(in = 1971964) (out= 686708)(deflated 65%)\n",
            "adding: org/openkoreantext/processor/util/noun/bible.txt(in = 2032) (out= 1005)(deflated 50%)\n",
            "adding: org/openkoreantext/processor/util/noun/spam.txt(in = 202) (out= 157)(deflated 22%)\n",
            "adding: org/openkoreantext/processor/util/noun/entities.txt(in = 108142) (out= 44095)(deflated 59%)\n",
            "adding: org/openkoreantext/processor/util/noun/slangs.txt(in = 1565) (out= 921)(deflated 41%)\n",
            "adding: org/openkoreantext/processor/util/noun/kpop.txt(in = 5371) (out= 2495)(deflated 53%)\n",
            "adding: org/openkoreantext/processor/util/noun/twitter.txt(in = 254) (out= 162)(deflated 36%)\n",
            "adding: org/openkoreantext/processor/util/noun/company_names.txt(in = 1631) (out= 905)(deflated 44%)\n",
            "adding: org/openkoreantext/processor/util/freq/(in = 0) (out= 0)(stored 0%)\n",
            "adding: org/openkoreantext/processor/util/freq/entity-freq.txt.gz(in = 385753) (out= 385873)(deflated 0%)\n",
            "adding: org/openkoreantext/processor/util/Hangul.class(in = 3981) (out= 2731)(deflated 31%)\n",
            "adding: org/openkoreantext/processor/util/verb/(in = 0) (out= 0)(stored 0%)\n",
            "adding: org/openkoreantext/processor/util/verb/verb_prefix.txt(in = 47) (out= 52)(deflated -10%)\n",
            "adding: org/openkoreantext/processor/util/verb/pre_eomi.txt(in = 285) (out= 185)(deflated 35%)\n",
            "adding: org/openkoreantext/processor/util/verb/eomi.txt(in = 12618) (out= 3556)(deflated 71%)\n",
            "adding: org/openkoreantext/processor/util/verb/verb.txt(in = 32758) (out= 10723)(deflated 67%)\n",
            "adding: org/openkoreantext/processor/util/CharArrayMap$EntrySet.class(in = 2788) (out= 1181)(deflated 57%)\n",
            "adding: org/openkoreantext/processor/util/KoreanConjugation$.class(in = 22440) (out= 7972)(deflated 64%)\n",
            "adding: org/openkoreantext/processor/util/CharArraySet.class(in = 4886) (out= 1944)(deflated 60%)\n",
            "adding: org/openkoreantext/processor/util/KoreanSubstantive$.class(in = 14990) (out= 6195)(deflated 58%)\n",
            "adding: org/openkoreantext/processor/util/Hangul$HangulChar$.class(in = 2389) (out= 1022)(deflated 57%)\n",
            "adding: org/openkoreantext/processor/util/Hangul$.class(in = 7625) (out= 3114)(deflated 59%)\n",
            "adding: org/openkoreantext/processor/util/KoreanPos.class(in = 6890) (out= 3877)(deflated 43%)\n",
            "adding: org/openkoreantext/processor/util/josa/(in = 0) (out= 0)(stored 0%)\n",
            "adding: org/openkoreantext/processor/util/josa/josa.txt(in = 5219) (out= 1476)(deflated 71%)\n",
            "adding: org/openkoreantext/processor/util/CharacterUtils.class(in = 3703) (out= 1716)(deflated 53%)\n",
            "adding: org/openkoreantext/processor/util/example_chunks.txt(in = 522978) (out= 163253)(deflated 68%)\n",
            "adding: org/openkoreantext/processor/util/CharacterUtils$Java4CharacterUtils.class(in = 2577) (out= 1282)(deflated 50%)\n",
            "adding: org/openkoreantext/processor/util/KoreanSubstantive.class(in = 1336) (out= 1087)(deflated 18%)\n",
            "adding: org/openkoreantext/processor/util/CharArrayMap$UnmodifiableCharArrayMap.class(in = 3062) (out= 859)(deflated 71%)\n",
            "adding: org/openkoreantext/processor/util/CharArrayMap$1.class(in = 1531) (out= 571)(deflated 62%)\n",
            "adding: org/openkoreantext/processor/util/Hangul$HangulChar.class(in = 3185) (out= 1421)(deflated 55%)\n",
            "adding: org/openkoreantext/processor/util/KoreanPos$KoreanPosTrie$.class(in = 3157) (out= 1089)(deflated 65%)\n",
            "adding: org/openkoreantext/processor/util/CharacterUtils$CharacterBuffer.class(in = 1634) (out= 659)(deflated 59%)\n",
            "adding: org/openkoreantext/processor/util/KoreanDictionaryProvider$.class(in = 20197) (out= 7488)(deflated 62%)\n",
            "adding: org/openkoreantext/processor/util/KoreanConjugation.class(in = 1550) (out= 1237)(deflated 20%)\n",
            "adding: org/openkoreantext/processor/util/CharArrayMap$EmptyCharArrayMap.class(in = 2053) (out= 725)(deflated 64%)\n",
            "adding: org/openkoreantext/processor/util/auxiliary/(in = 0) (out= 0)(stored 0%)\n",
            "adding: org/openkoreantext/processor/util/auxiliary/determiner.txt(in = 63) (out= 63)(deflated 0%)\n",
            "adding: org/openkoreantext/processor/util/auxiliary/exclamation.txt(in = 1759) (out= 757)(deflated 56%)\n",
            "adding: org/openkoreantext/processor/util/auxiliary/conjunctions.txt(in = 398) (out= 189)(deflated 52%)\n",
            "adding: org/openkoreantext/processor/util/adjective/(in = 0) (out= 0)(stored 0%)\n",
            "adding: org/openkoreantext/processor/util/adjective/adjective.txt(in = 27250) (out= 9357)(deflated 65%)\n",
            "adding: org/openkoreantext/processor/util/substantives/(in = 0) (out= 0)(stored 0%)\n",
            "adding: org/openkoreantext/processor/util/substantives/given_names.txt(in = 1407) (out= 609)(deflated 56%)\n",
            "adding: org/openkoreantext/processor/util/substantives/modifier.txt(in = 3395) (out= 1346)(deflated 60%)\n",
            "adding: org/openkoreantext/processor/util/substantives/family_names.txt(in = 299) (out= 197)(deflated 34%)\n",
            "adding: org/openkoreantext/processor/util/substantives/suffix.txt(in = 325) (out= 224)(deflated 31%)\n",
            "adding: org/openkoreantext/processor/qa/(in = 0) (out= 0)(stored 0%)\n",
            "adding: org/openkoreantext/processor/qa/KoreanProcessorSandbox$.class(in = 1464) (out= 823)(deflated 43%)\n",
            "adding: org/openkoreantext/processor/qa/BatchGetUnknownNouns$ChunkWithTweet.class(in = 3080) (out= 1338)(deflated 56%)\n",
            "adding: org/openkoreantext/processor/qa/BatchTokenizeTweets$ParseTime$.class(in = 2418) (out= 1015)(deflated 58%)\n",
            "adding: org/openkoreantext/processor/qa/BatchGetUnknownNouns$ChunkWithTweet$.class(in = 2376) (out= 952)(deflated 59%)\n",
            "adding: org/openkoreantext/processor/qa/BatchTokenizeTweets.class(in = 2720) (out= 2031)(deflated 25%)\n",
            "adding: org/openkoreantext/processor/qa/BatchTokenizeTweets$.class(in = 10867) (out= 4401)(deflated 59%)\n",
            "adding: org/openkoreantext/processor/qa/BatchTokenizeTweets$ParseTime.class(in = 3153) (out= 1446)(deflated 54%)\n",
            "adding: org/openkoreantext/processor/qa/BatchGetUnknownNouns$.class(in = 8751) (out= 3532)(deflated 59%)\n",
            "adding: org/openkoreantext/processor/qa/BatchGetUnknownNouns.class(in = 2307) (out= 1702)(deflated 26%)\n",
            "adding: org/openkoreantext/processor/qa/KoreanProcessorSandbox.class(in = 824) (out= 575)(deflated 30%)\n",
            "adding: org/openkoreantext/processor/stemmer/(in = 0) (out= 0)(stored 0%)\n",
            "adding: org/openkoreantext/processor/stemmer/KoreanStemmer.class(in = 1439) (out= 972)(deflated 32%)\n",
            "adding: org/openkoreantext/processor/stemmer/KoreanStemmer$.class(in = 7044) (out= 2892)(deflated 58%)\n",
            "adding: org/openkoreantext/processor/normalizer/(in = 0) (out= 0)(stored 0%)\n",
            "adding: org/openkoreantext/processor/normalizer/KoreanNormalizer.class(in = 2980) (out= 2181)(deflated 26%)\n",
            "adding: org/openkoreantext/processor/normalizer/KoreanNormalizer$.class(in = 11553) (out= 5102)(deflated 55%)\n",
            "adding: org/openkoreantext/processor/normalizer/KoreanNormalizer$Segment.class(in = 3470) (out= 1422)(deflated 59%)\n",
            "adding: org/openkoreantext/processor/normalizer/KoreanNormalizer$Segment$.class(in = 2577) (out= 989)(deflated 61%)\n",
            "adding: org/openkoreantext/processor/tools/(in = 0) (out= 0)(stored 0%)\n",
            "adding: org/openkoreantext/processor/tools/CreatePhraseExtractionExamples$PhraseExample.class(in = 3825) (out= 1443)(deflated 62%)\n",
            "adding: org/openkoreantext/processor/tools/Runnable.class(in = 964) (out= 694)(deflated 28%)\n",
            "adding: org/openkoreantext/processor/tools/DeduplicateAndSortDictionaries.class(in = 1117) (out= 823)(deflated 26%)\n",
            "adding: org/openkoreantext/processor/tools/CreatePhraseExtractionExamples$PhraseExample$.class(in = 2974) (out= 1020)(deflated 65%)\n",
            "adding: org/openkoreantext/processor/tools/CreateChunkParsingCandidates.class(in = 833) (out= 566)(deflated 32%)\n",
            "adding: org/openkoreantext/processor/tools/UpdateAllTheExamples.class(in = 1089) (out= 756)(deflated 30%)\n",
            "adding: org/openkoreantext/processor/tools/CreateConjugationExamples.class(in = 2367) (out= 1659)(deflated 29%)\n",
            "adding: org/openkoreantext/processor/tools/UpdateAllTheExamples$.class(in = 4383) (out= 1794)(deflated 59%)\n",
            "adding: org/openkoreantext/processor/tools/CreateParsingExamples$ParsingExample.class(in = 3718) (out= 1429)(deflated 61%)\n",
            "adding: org/openkoreantext/processor/tools/CreateParsingExamples$ParsingExample$.class(in = 2842) (out= 1010)(deflated 64%)\n",
            "adding: org/openkoreantext/processor/tools/CreateParsingExamples.class(in = 2427) (out= 1732)(deflated 28%)\n",
            "adding: org/openkoreantext/processor/tools/CreatePhraseExtractionExamples.class(in = 2516) (out= 1784)(deflated 29%)\n",
            "adding: org/openkoreantext/processor/tools/CreateConjugationExamples$.class(in = 5881) (out= 2385)(deflated 59%)\n",
            "adding: org/openkoreantext/processor/tools/DeduplicateAndSortDictionaries$.class(in = 7154) (out= 3133)(deflated 56%)\n",
            "adding: org/openkoreantext/processor/tools/CreateParsingExamples$.class(in = 5517) (out= 2327)(deflated 57%)\n",
            "adding: org/openkoreantext/processor/tools/CreateConjugationExamples$ConjugationExample$.class(in = 2787) (out= 997)(deflated 64%)\n",
            "adding: org/openkoreantext/processor/tools/CreateChunkParsingCandidates$.class(in = 5487) (out= 2305)(deflated 57%)\n",
            "adding: org/openkoreantext/processor/tools/CreatePhraseExtractionExamples$.class(in = 5989) (out= 2472)(deflated 58%)\n",
            "adding: org/openkoreantext/processor/tools/CreateConjugationExamples$ConjugationExample.class(in = 3569) (out= 1415)(deflated 60%)\n",
            "adding: org/openkoreantext/processor/KoreanTokenJava.class(in = 1976) (out= 931)(deflated 52%)\n",
            "adding: org/openkoreantext/processor/phrase_extractor/(in = 0) (out= 0)(stored 0%)\n",
            "adding: org/openkoreantext/processor/phrase_extractor/KoreanPhraseExtractor$PhraseBuffer.class(in = 4857) (out= 1609)(deflated 66%)\n",
            "adding: org/openkoreantext/processor/phrase_extractor/KoreanPhraseExtractor$KoreanPhrase$.class(in = 3358) (out= 1148)(deflated 65%)\n",
            "adding: org/openkoreantext/processor/phrase_extractor/KoreanPhraseExtractor$KoreanPhrase.class(in = 6942) (out= 2591)(deflated 62%)\n",
            "adding: org/openkoreantext/processor/phrase_extractor/KoreanPhraseExtractor$.class(in = 37855) (out= 12404)(deflated 67%)\n",
            "adding: org/openkoreantext/processor/phrase_extractor/KoreanPhraseExtractor$PhraseBuffer$.class(in = 3564) (out= 1087)(deflated 69%)\n",
            "adding: org/openkoreantext/processor/phrase_extractor/KoreanPhraseExtractor.class(in = 6005) (out= 3967)(deflated 33%)\n",
            "adding: org/openkoreantext/processor/OpenKoreanTextProcessorJava.class(in = 5901) (out= 1995)(deflated 66%)\n",
            "adding: org/openkoreantext/processor/OpenKoreanTextProcessor.class(in = 4428) (out= 1997)(deflated 54%)\n"
          ]
        }
      ]
    },
    {
      "cell_type": "code",
      "source": [
        "okt.pos('닥터 스트레인지는 스파이더맨에 나온다.')\n",
        "#적용이 안된 모습"
      ],
      "metadata": {
        "colab": {
          "base_uri": "https://localhost:8080/"
        },
        "id": "x879gcZdLoYi",
        "outputId": "a57dd3dc-d1f7-4978-e00e-2b399f3a2291"
      },
      "execution_count": 67,
      "outputs": [
        {
          "output_type": "execute_result",
          "data": {
            "text/plain": [
              "[('닥터', 'Noun'),\n",
              " ('스', 'Noun'),\n",
              " ('트레인', 'Noun'),\n",
              " ('지는', 'Josa'),\n",
              " ('스파이더맨', 'Noun'),\n",
              " ('에', 'Josa'),\n",
              " ('나온다', 'Verb'),\n",
              " ('.', 'Punctuation')]"
            ]
          },
          "metadata": {},
          "execution_count": 67
        }
      ]
    },
    {
      "cell_type": "markdown",
      "source": [
        "5. 영화 한 개에 대한 빈도 분석과 워드 클라우드"
      ],
      "metadata": {
        "id": "nLh1MDnbMke8"
      }
    },
    {
      "cell_type": "code",
      "source": [
        "one_text = df['text'][0]\n",
        "one_text"
      ],
      "metadata": {
        "colab": {
          "base_uri": "https://localhost:8080/",
          "height": 381
        },
        "id": "aJmRGml1MvvQ",
        "outputId": "3cbd72f3-2ff2-4e35-9df1-1c41572d20a6"
      },
      "execution_count": 68,
      "outputs": [
        {
          "output_type": "execute_result",
          "data": {
            "text/plain": [
              "'《스파이더맨: 노 웨이 홈》(영어: Spider-Man: No Way Home)은 2021년 개봉한 미국의 슈퍼히어로 영화이다. 2019년 영화 《스파이더맨: 파 프롬 홈》의 후속작이자, 마블 시네마틱 유니버스(MCU)의 27번째 작품이다. 감독은 전편과 같은 존 왓츠가 맡았으며, 각본 역시 전편에 참여했던 크리스 매케나와 에릭 소머즈가 맡았다.전작 《스파이더맨: 파 프롬 홈》에서 미스테리오가 스파이더맨이 살인자라고 누명을 씌우고, 정체를 공개한 장면부터 시작된다. 주변 사람들로부터 관심이 쏠린 피터 파커와 MJ는 웹스윙으로 현장을 벗어나 집으로 가지만, 집 근처에도 많은 사람들이 온다. 이후, 피터, MJ, 네드, 큰엄마 메이는 경찰에 조사받는다. 변호사 맷 머독이 증거불충분으로 기소되지는 않는다고 말하지만 대중들은 스파이더맨을 살인자라며 비난한다.\\n\\n미스테리오 때문에 자신의 일상이 엉망이 된 피터, 자신이 끌어들인 네드와 MJ까지 논란으로 인해 MIT 진학이 좌절되자 피터는 닥터 스트레인지를 찾아가 과거를 바꿔달라고 하지만 그는 거절한다. 대신 다른 사람들이 피터 파커가 스파이더맨이었다는 기억을 없애주기로 한다. 그러나 피터는 폭로 이전에 자신의 정체를 알던 이들은 예외로 해달라며 주문을 방해하고 스트레인지의 마법은 실패한다. 이로 인해 오히려 스파이더맨의 정체를 알던 평행우주의 인물들이 넘어오게 된다.\\n\\n피터는 플래시 톰슨의 도움으로 MIT에 한 번 더 기회를 요청하기 위해 공항으로 가던 부총장보를 만나려 한다. 부총장보를 만났지만 갑자기 도로에서 스파이더맨: 트릴로지2의 닥터 옥토퍼스가 나타난다. 피터는 닥터 옥토퍼스를 제압하고 부총장보에게 입학 허가를 받았지만, 2002년 작 스파이더맨의 그린 고블린이 나타난다. 그 때 닥터 스트레인지의 도움으로 생텀으로 온 피터는 닥터 옥토퍼스와 함께 잡혀 있던 어메이징 스파이더맨의 리저드도 보게 된다. 스트레인지는 평행우주의 인물들을 막으려 했지만 일부가 우리 차원으로 넘어왔다고 말하며 피터에게 사건 해결을 촉구한다.\\n\\n네드와 MJ의 도움으로 스파이더맨 3의 샌드맨과 어메이징 스파이더맨 2의 일렉트로를 만나고 둘을 모두 잡게 된다. 사악한 그린 고블린의 인격에서 잠시 벗어난 노먼 오스본은 메이의 일터로 가고, 피터와 함께 생텀의 지하로 간다. 닥터 스트레인지는 그들을 되돌려 보내려고 하지만, 죽을 운명이었던 스파이더맨의 숙적들을 지키기 위해 피터와 스트레인지는 마법 상자를 놓고 싸운다. 스트레인지를 미러 디멘션에 고립시키기에 성공한 피터는 빌런들을 풀어주고 그들의 신체적/정신적 이상을 해결하고 돌려보내기위한 연구를 진행하고 닥터 옥토퍼스를 기계팔의 지배로부터 해방시킨다.\\n\\n그러나 그린 고블린, 일렉트로, 리저드, 샌드맨은 스파이더맨을 공격하고 그 결과 그린 고블린에 의해 메이가 죽는다. 그린 고블린은 피터에게 메이가 말하는 도덕적 의무를 지키면서 자신의 재능을 썩힌다고 조롱하고 피터는 분노한다. 메이는 죽기 전에, 피터에게 \"큰 힘에는 큰 책임이 따른다.\"라는 말을 하고 숨을 거둔다. 데일리 뷰글의 J 조나 제임슨은 스파이더맨이 지나간 자리에는 혼란만이 있다며 비난한다. 피터는 자신을 쫓아 온 데미지 컨트롤의 요원들을 피해 도망간다.\\n\\n한편, MJ와 네드는 피터가 준 닥터 스트레인지의 슬링링으로 피터를 찾으려고 한다. 그렇게 찾은 키가 훤칠한 피터 파커는 그들이 알던 피터가 아닌 어메이징 스파이더맨 시리즈의 앤드류 가필드 버전의 스파이더맨이었다. 다시 피터를 찾기 위해 슬링링을 사용하니, 샘 레이미의 스파이더맨 3부작의 토비 맥과이어 버전의 스파이더맨이 등장한다. 두 스파이더맨은 네드와 MJ의 말을 듣고 피터가 힘들 때 도피처로 쓰던 공간을 찾아간다.\\n\\n피터를 찾아간 친구들과 두 스파이더맨의 도움으로 피터는 다시 일어나고 세 스파이더맨은 데일리 뷰글을 통해 빌런들을 자유의 여신상에서 치료시키려는 계획을 세운다. 그리고 벌어진 세 스파이더맨과 샌드맨, 일렉트로, 리저드의 전투를 벌이고 난입한 닥터 옥토퍼스의 도움으로 셋 모두를 치료하게 된다.\\n\\n네드가 슬링링을 돌리다가 다시 현실로 돌아온 닥터 스트레인지는 이방인들을 원래 차원으로 되돌리려 하지만 그린 고블린이 나타난다. 복수심에 가득 찬 피터는 그린 고블린을 죽일 기세로 때리고 그린 고블린의 글라이더로 그를 찔러 죽이려 하지만 토비 맥과이어의 스파이더맨이 저지한다. 그린 고블린은 피터를 막고 있는 토비 맥과이어의 스파이더맨의 등을 찌르지만 다른 스파이더맨의 호흡으로 모든 숙적들을 치료한다.\\n\\n이방인들의 치료는 끝났지만 닥터 스트레인지는 마법 주문을 억누를 수 없는 상황에 처하고 피터는 피터 파커의 존재를 모든 사람들이 잊는다면 더 이상의 불청객이 오지 않게 될 것이라 스트레인지에게 말한다. 스트레인지는 이를 받아들여 모든 사람들에게서 피터 파커라는 존재의 기억을 지우는 마법을 사용한다. 피터는 다른 세계에서 온 스파이더맨들과 두 친구와 작별인사를 나누고 자신의 존재를 다시 말해주겠다고 약속한다. 다른 세계에서 온 사람들도 원래 세계로 돌아간다.\\n\\n그 후, 모두가 피터를 잊게 되었고 피터는 자취를 시작한다. 메이의 무덤에서 그의 기억을 잊은 해피 호건과 대화를 나누고, 네드와 MJ에게 자신에 대해 말하려 하지만 MJ의 이마에 난 상처를 보고 친구들을 위해 진실을 말하기를 포기한다. 피터 파커는 자신만의 새 스파이더맨 슈트를 만들고 스파이더맨으로서 다시 활약한다.'"
            ],
            "application/vnd.google.colaboratory.intrinsic+json": {
              "type": "string"
            }
          },
          "metadata": {},
          "execution_count": 68
        }
      ]
    },
    {
      "cell_type": "code",
      "source": [
        "one_text_tokenized = okt.morphs(one_text) # 형태소 단위로 구분\n",
        "one_text_tokenized[:12] # 앞에서 12개"
      ],
      "metadata": {
        "colab": {
          "base_uri": "https://localhost:8080/"
        },
        "id": "2Z8Ap-RrRY-E",
        "outputId": "ee00a74b-53e9-4171-89c7-e617f7e4a5bc"
      },
      "execution_count": 69,
      "outputs": [
        {
          "output_type": "execute_result",
          "data": {
            "text/plain": [
              "['《', '스파이더맨', ':', '노', '웨이', '홈', '》', '(', '영어', ':', 'Spider', '-']"
            ]
          },
          "metadata": {},
          "execution_count": 69
        }
      ]
    },
    {
      "cell_type": "code",
      "source": [
        "one_text_tokenized = okt.nouns(one_text) # 명사 단위로 구분\n",
        "one_text_tokenized[:12] # 앞에서 12개"
      ],
      "metadata": {
        "colab": {
          "base_uri": "https://localhost:8080/"
        },
        "id": "jC46_5wnTNVQ",
        "outputId": "5411f943-0953-4b54-e162-ed5424733723"
      },
      "execution_count": 70,
      "outputs": [
        {
          "output_type": "execute_result",
          "data": {
            "text/plain": [
              "['스파이더맨', '노', '웨이', '홈', '영어', '은', '개봉', '미국', '슈퍼히어로', '영화', '영화', '스파이더맨']"
            ]
          },
          "metadata": {},
          "execution_count": 70
        }
      ]
    },
    {
      "cell_type": "code",
      "source": [
        "df_word_count = pd.DataFrame() # 단어가 얼마나 반복되었는지를 의미\n",
        "word_cloud_dict = {}\n",
        "\n",
        "word_list = list(set(one_text_tokenized)) #set을 넣으면 유니크한 단어들만 뽑을 수 있음\n",
        "word_cnt_list = [] #각각의 워드 리스트에 있는 단어 갯수를 뽑음"
      ],
      "metadata": {
        "id": "HisrnEFWTas6"
      },
      "execution_count": 71,
      "outputs": []
    },
    {
      "cell_type": "code",
      "source": [
        "from tqdm import tqdm\n",
        "\n",
        "for word in tqdm(word_list): #유니크한 워드들 중 단어를 하나씩 확인\n",
        "    word_cnt = one_text_tokenized.count(word) #o-t-t에 토큰화된 단어들이 있음 이것들의 갯수를 셈\n",
        "    word_cnt_list.append(word_cnt)\n",
        "    if len(word) == 1:\n",
        "        continue # 워드 내에 단어가 한글자일 때는 불용어 처리하기\n",
        "    word_cloud_dict[word] = word_cnt"
      ],
      "metadata": {
        "colab": {
          "base_uri": "https://localhost:8080/"
        },
        "id": "IlEDONhsTpgu",
        "outputId": "9f3c4683-e5d5-4a20-dffb-4127a68b68d5"
      },
      "execution_count": 72,
      "outputs": [
        {
          "output_type": "stream",
          "name": "stderr",
          "text": [
            "100%|██████████| 255/255 [00:00<00:00, 57063.84it/s]\n"
          ]
        }
      ]
    },
    {
      "cell_type": "code",
      "source": [
        "df_word_count['word'] = word_list # wordlist에 있는 것을 word로\n",
        "df_word_count['word_cnt'] = word_cnt_list # 워드카운트리스트는 워드카운트에 넣음\n",
        "df_word_count = df_word_count.sort_values('word_cnt', ascending = False) #내림차순\n",
        "df_word_count.head(30)"
      ],
      "metadata": {
        "colab": {
          "base_uri": "https://localhost:8080/",
          "height": 990
        },
        "id": "jV_fhltG-aGq",
        "outputId": "14a9f3b9-ae34-4873-dfe7-d953d92b2b0f"
      },
      "execution_count": 73,
      "outputs": [
        {
          "output_type": "execute_result",
          "data": {
            "text/plain": [
              "      word  word_cnt\n",
              "143     피터        34\n",
              "3    스파이더맨        29\n",
              "235     닥터        11\n",
              "50       그         9\n",
              "138     그린         9\n",
              "207    고블린         9\n",
              "140      말         9\n",
              "95       스         8\n",
              "70       의         8\n",
              "222    트레인         8\n",
              "224     자신         8\n",
              "238     메이         6\n",
              "226     사람         6\n",
              "215     네드         6\n",
              "28      파커         6\n",
              "118     다시         5\n",
              "132     옥토         5\n",
              "137     퍼스         5\n",
              "65      도움         5\n",
              "67      스트         4\n",
              "135      온         4\n",
              "149     치료         4\n",
              "167     위해         4\n",
              "178     다른         4\n",
              "205    레인지         4\n",
              "245     마법         4\n",
              "148      홈         3\n",
              "89      모두         3\n",
              "59       링         3\n",
              "252     모든         3"
            ],
            "text/html": [
              "\n",
              "  <div id=\"df-ea9f40a1-203e-4cc1-ad88-226f4a54f1a4\">\n",
              "    <div class=\"colab-df-container\">\n",
              "      <div>\n",
              "<style scoped>\n",
              "    .dataframe tbody tr th:only-of-type {\n",
              "        vertical-align: middle;\n",
              "    }\n",
              "\n",
              "    .dataframe tbody tr th {\n",
              "        vertical-align: top;\n",
              "    }\n",
              "\n",
              "    .dataframe thead th {\n",
              "        text-align: right;\n",
              "    }\n",
              "</style>\n",
              "<table border=\"1\" class=\"dataframe\">\n",
              "  <thead>\n",
              "    <tr style=\"text-align: right;\">\n",
              "      <th></th>\n",
              "      <th>word</th>\n",
              "      <th>word_cnt</th>\n",
              "    </tr>\n",
              "  </thead>\n",
              "  <tbody>\n",
              "    <tr>\n",
              "      <th>143</th>\n",
              "      <td>피터</td>\n",
              "      <td>34</td>\n",
              "    </tr>\n",
              "    <tr>\n",
              "      <th>3</th>\n",
              "      <td>스파이더맨</td>\n",
              "      <td>29</td>\n",
              "    </tr>\n",
              "    <tr>\n",
              "      <th>235</th>\n",
              "      <td>닥터</td>\n",
              "      <td>11</td>\n",
              "    </tr>\n",
              "    <tr>\n",
              "      <th>50</th>\n",
              "      <td>그</td>\n",
              "      <td>9</td>\n",
              "    </tr>\n",
              "    <tr>\n",
              "      <th>138</th>\n",
              "      <td>그린</td>\n",
              "      <td>9</td>\n",
              "    </tr>\n",
              "    <tr>\n",
              "      <th>207</th>\n",
              "      <td>고블린</td>\n",
              "      <td>9</td>\n",
              "    </tr>\n",
              "    <tr>\n",
              "      <th>140</th>\n",
              "      <td>말</td>\n",
              "      <td>9</td>\n",
              "    </tr>\n",
              "    <tr>\n",
              "      <th>95</th>\n",
              "      <td>스</td>\n",
              "      <td>8</td>\n",
              "    </tr>\n",
              "    <tr>\n",
              "      <th>70</th>\n",
              "      <td>의</td>\n",
              "      <td>8</td>\n",
              "    </tr>\n",
              "    <tr>\n",
              "      <th>222</th>\n",
              "      <td>트레인</td>\n",
              "      <td>8</td>\n",
              "    </tr>\n",
              "    <tr>\n",
              "      <th>224</th>\n",
              "      <td>자신</td>\n",
              "      <td>8</td>\n",
              "    </tr>\n",
              "    <tr>\n",
              "      <th>238</th>\n",
              "      <td>메이</td>\n",
              "      <td>6</td>\n",
              "    </tr>\n",
              "    <tr>\n",
              "      <th>226</th>\n",
              "      <td>사람</td>\n",
              "      <td>6</td>\n",
              "    </tr>\n",
              "    <tr>\n",
              "      <th>215</th>\n",
              "      <td>네드</td>\n",
              "      <td>6</td>\n",
              "    </tr>\n",
              "    <tr>\n",
              "      <th>28</th>\n",
              "      <td>파커</td>\n",
              "      <td>6</td>\n",
              "    </tr>\n",
              "    <tr>\n",
              "      <th>118</th>\n",
              "      <td>다시</td>\n",
              "      <td>5</td>\n",
              "    </tr>\n",
              "    <tr>\n",
              "      <th>132</th>\n",
              "      <td>옥토</td>\n",
              "      <td>5</td>\n",
              "    </tr>\n",
              "    <tr>\n",
              "      <th>137</th>\n",
              "      <td>퍼스</td>\n",
              "      <td>5</td>\n",
              "    </tr>\n",
              "    <tr>\n",
              "      <th>65</th>\n",
              "      <td>도움</td>\n",
              "      <td>5</td>\n",
              "    </tr>\n",
              "    <tr>\n",
              "      <th>67</th>\n",
              "      <td>스트</td>\n",
              "      <td>4</td>\n",
              "    </tr>\n",
              "    <tr>\n",
              "      <th>135</th>\n",
              "      <td>온</td>\n",
              "      <td>4</td>\n",
              "    </tr>\n",
              "    <tr>\n",
              "      <th>149</th>\n",
              "      <td>치료</td>\n",
              "      <td>4</td>\n",
              "    </tr>\n",
              "    <tr>\n",
              "      <th>167</th>\n",
              "      <td>위해</td>\n",
              "      <td>4</td>\n",
              "    </tr>\n",
              "    <tr>\n",
              "      <th>178</th>\n",
              "      <td>다른</td>\n",
              "      <td>4</td>\n",
              "    </tr>\n",
              "    <tr>\n",
              "      <th>205</th>\n",
              "      <td>레인지</td>\n",
              "      <td>4</td>\n",
              "    </tr>\n",
              "    <tr>\n",
              "      <th>245</th>\n",
              "      <td>마법</td>\n",
              "      <td>4</td>\n",
              "    </tr>\n",
              "    <tr>\n",
              "      <th>148</th>\n",
              "      <td>홈</td>\n",
              "      <td>3</td>\n",
              "    </tr>\n",
              "    <tr>\n",
              "      <th>89</th>\n",
              "      <td>모두</td>\n",
              "      <td>3</td>\n",
              "    </tr>\n",
              "    <tr>\n",
              "      <th>59</th>\n",
              "      <td>링</td>\n",
              "      <td>3</td>\n",
              "    </tr>\n",
              "    <tr>\n",
              "      <th>252</th>\n",
              "      <td>모든</td>\n",
              "      <td>3</td>\n",
              "    </tr>\n",
              "  </tbody>\n",
              "</table>\n",
              "</div>\n",
              "      <button class=\"colab-df-convert\" onclick=\"convertToInteractive('df-ea9f40a1-203e-4cc1-ad88-226f4a54f1a4')\"\n",
              "              title=\"Convert this dataframe to an interactive table.\"\n",
              "              style=\"display:none;\">\n",
              "        \n",
              "  <svg xmlns=\"http://www.w3.org/2000/svg\" height=\"24px\"viewBox=\"0 0 24 24\"\n",
              "       width=\"24px\">\n",
              "    <path d=\"M0 0h24v24H0V0z\" fill=\"none\"/>\n",
              "    <path d=\"M18.56 5.44l.94 2.06.94-2.06 2.06-.94-2.06-.94-.94-2.06-.94 2.06-2.06.94zm-11 1L8.5 8.5l.94-2.06 2.06-.94-2.06-.94L8.5 2.5l-.94 2.06-2.06.94zm10 10l.94 2.06.94-2.06 2.06-.94-2.06-.94-.94-2.06-.94 2.06-2.06.94z\"/><path d=\"M17.41 7.96l-1.37-1.37c-.4-.4-.92-.59-1.43-.59-.52 0-1.04.2-1.43.59L10.3 9.45l-7.72 7.72c-.78.78-.78 2.05 0 2.83L4 21.41c.39.39.9.59 1.41.59.51 0 1.02-.2 1.41-.59l7.78-7.78 2.81-2.81c.8-.78.8-2.07 0-2.86zM5.41 20L4 18.59l7.72-7.72 1.47 1.35L5.41 20z\"/>\n",
              "  </svg>\n",
              "      </button>\n",
              "      \n",
              "  <style>\n",
              "    .colab-df-container {\n",
              "      display:flex;\n",
              "      flex-wrap:wrap;\n",
              "      gap: 12px;\n",
              "    }\n",
              "\n",
              "    .colab-df-convert {\n",
              "      background-color: #E8F0FE;\n",
              "      border: none;\n",
              "      border-radius: 50%;\n",
              "      cursor: pointer;\n",
              "      display: none;\n",
              "      fill: #1967D2;\n",
              "      height: 32px;\n",
              "      padding: 0 0 0 0;\n",
              "      width: 32px;\n",
              "    }\n",
              "\n",
              "    .colab-df-convert:hover {\n",
              "      background-color: #E2EBFA;\n",
              "      box-shadow: 0px 1px 2px rgba(60, 64, 67, 0.3), 0px 1px 3px 1px rgba(60, 64, 67, 0.15);\n",
              "      fill: #174EA6;\n",
              "    }\n",
              "\n",
              "    [theme=dark] .colab-df-convert {\n",
              "      background-color: #3B4455;\n",
              "      fill: #D2E3FC;\n",
              "    }\n",
              "\n",
              "    [theme=dark] .colab-df-convert:hover {\n",
              "      background-color: #434B5C;\n",
              "      box-shadow: 0px 1px 3px 1px rgba(0, 0, 0, 0.15);\n",
              "      filter: drop-shadow(0px 1px 2px rgba(0, 0, 0, 0.3));\n",
              "      fill: #FFFFFF;\n",
              "    }\n",
              "  </style>\n",
              "\n",
              "      <script>\n",
              "        const buttonEl =\n",
              "          document.querySelector('#df-ea9f40a1-203e-4cc1-ad88-226f4a54f1a4 button.colab-df-convert');\n",
              "        buttonEl.style.display =\n",
              "          google.colab.kernel.accessAllowed ? 'block' : 'none';\n",
              "\n",
              "        async function convertToInteractive(key) {\n",
              "          const element = document.querySelector('#df-ea9f40a1-203e-4cc1-ad88-226f4a54f1a4');\n",
              "          const dataTable =\n",
              "            await google.colab.kernel.invokeFunction('convertToInteractive',\n",
              "                                                     [key], {});\n",
              "          if (!dataTable) return;\n",
              "\n",
              "          const docLinkHtml = 'Like what you see? Visit the ' +\n",
              "            '<a target=\"_blank\" href=https://colab.research.google.com/notebooks/data_table.ipynb>data table notebook</a>'\n",
              "            + ' to learn more about interactive tables.';\n",
              "          element.innerHTML = '';\n",
              "          dataTable['output_type'] = 'display_data';\n",
              "          await google.colab.output.renderOutput(dataTable, element);\n",
              "          const docLink = document.createElement('div');\n",
              "          docLink.innerHTML = docLinkHtml;\n",
              "          element.appendChild(docLink);\n",
              "        }\n",
              "      </script>\n",
              "    </div>\n",
              "  </div>\n",
              "  "
            ]
          },
          "metadata": {},
          "execution_count": 73
        }
      ]
    },
    {
      "cell_type": "code",
      "source": [
        "from wordcloud import WordCloud\n",
        "\n",
        "word_cloud = WordCloud(font_path = font_path, width=1000, height=600)\n",
        "word_cloud.generate_from_frequencies(word_cloud_dict)"
      ],
      "metadata": {
        "colab": {
          "base_uri": "https://localhost:8080/"
        },
        "id": "4el1gYtXA36Q",
        "outputId": "1f35f680-5d3c-4dad-e273-e6bedbddf9f8"
      },
      "execution_count": 74,
      "outputs": [
        {
          "output_type": "execute_result",
          "data": {
            "text/plain": [
              "<wordcloud.wordcloud.WordCloud at 0x7f4842634790>"
            ]
          },
          "metadata": {},
          "execution_count": 74
        }
      ]
    },
    {
      "cell_type": "code",
      "source": [
        "word_cloud_dict"
      ],
      "metadata": {
        "id": "dl3uKAOLBjdP",
        "colab": {
          "base_uri": "https://localhost:8080/"
        },
        "outputId": "a4cde893-ece6-4003-d50a-036384158c4a"
      },
      "execution_count": 75,
      "outputs": [
        {
          "output_type": "execute_result",
          "data": {
            "text/plain": [
              "{'존재': 3,\n",
              " '일터': 1,\n",
              " '세계': 3,\n",
              " '스파이더맨': 29,\n",
              " '개봉': 1,\n",
              " '주변': 1,\n",
              " '공격': 1,\n",
              " '대중': 1,\n",
              " '때문': 1,\n",
              " '진실': 1,\n",
              " '운명': 1,\n",
              " '기계': 1,\n",
              " '썩힌다': 1,\n",
              " '벌이': 1,\n",
              " '무덤': 1,\n",
              " '오스본': 1,\n",
              " '해피': 1,\n",
              " '이자': 1,\n",
              " '조롱': 1,\n",
              " '비난': 2,\n",
              " '샌드맨': 3,\n",
              " '방해': 1,\n",
              " '파커': 6,\n",
              " '주문': 2,\n",
              " '연구': 1,\n",
              " '가필드': 1,\n",
              " '책임': 1,\n",
              " '슬링': 3,\n",
              " '난입': 1,\n",
              " '슈트': 1,\n",
              " '인물': 2,\n",
              " '미러': 1,\n",
              " '여신': 1,\n",
              " '포기': 1,\n",
              " '예외': 1,\n",
              " '제압': 1,\n",
              " '어메이징': 3,\n",
              " '가지': 1,\n",
              " '달라': 1,\n",
              " '호흡': 1,\n",
              " '살인자': 2,\n",
              " '증거불충분': 1,\n",
              " '경찰': 1,\n",
              " '해방': 1,\n",
              " '각본': 1,\n",
              " '일어나고': 1,\n",
              " '머독': 1,\n",
              " '도덕': 1,\n",
              " '영화': 2,\n",
              " '변호사': 1,\n",
              " '일리': 2,\n",
              " '이로': 1,\n",
              " '도움': 5,\n",
              " '레이미': 1,\n",
              " '스트': 4,\n",
              " '트릴로지': 1,\n",
              " '작별인사': 1,\n",
              " '공항': 1,\n",
              " '입학': 1,\n",
              " '약속': 1,\n",
              " '데미지': 1,\n",
              " '진학': 1,\n",
              " '대해': 1,\n",
              " '현실': 1,\n",
              " '맥과이어': 3,\n",
              " '기세': 1,\n",
              " '전작': 1,\n",
              " '불청객': 1,\n",
              " '숙적': 2,\n",
              " '일부': 1,\n",
              " '친구': 3,\n",
              " '버전': 2,\n",
              " '컨트롤': 1,\n",
              " '모두': 3,\n",
              " '엄마': 1,\n",
              " '인격': 1,\n",
              " '왓츠': 1,\n",
              " '의무': 1,\n",
              " '통해': 1,\n",
              " '전투': 1,\n",
              " '이후': 1,\n",
              " '지배': 1,\n",
              " '작품': 1,\n",
              " '공개': 1,\n",
              " '상황': 1,\n",
              " '시작': 2,\n",
              " '톰슨': 1,\n",
              " '슈퍼히어로': 1,\n",
              " '시리즈': 1,\n",
              " '미국': 1,\n",
              " '해결': 2,\n",
              " '지하': 1,\n",
              " '소머즈': 1,\n",
              " '조사': 1,\n",
              " '엉망': 1,\n",
              " '공간': 1,\n",
              " '누명': 1,\n",
              " '부총': 3,\n",
              " '웨이': 1,\n",
              " '다시': 5,\n",
              " '장면': 1,\n",
              " '일렉트로': 3,\n",
              " '가득': 1,\n",
              " '오지': 1,\n",
              " '대화': 1,\n",
              " '오히려': 1,\n",
              " '멘션': 1,\n",
              " '전편': 2,\n",
              " '자리': 1,\n",
              " '허가': 1,\n",
              " '옥토': 5,\n",
              " '크리스': 1,\n",
              " '일상': 1,\n",
              " '에릭': 1,\n",
              " '퍼스': 5,\n",
              " '그린': 9,\n",
              " '피해': 1,\n",
              " '피터': 34,\n",
              " '기회': 1,\n",
              " '복수심': 1,\n",
              " '원래': 2,\n",
              " '우리': 1,\n",
              " '치료': 4,\n",
              " '상자': 1,\n",
              " '마블': 1,\n",
              " '기소': 1,\n",
              " '논란': 1,\n",
              " '유니버스': 1,\n",
              " '정신': 1,\n",
              " '사건': 1,\n",
              " '역시': 1,\n",
              " '폭로': 1,\n",
              " '빌런': 2,\n",
              " '훤칠': 1,\n",
              " '사용': 2,\n",
              " '잠시': 1,\n",
              " '후속작': 1,\n",
              " '글라이더': 1,\n",
              " '위해': 4,\n",
              " '거절': 1,\n",
              " '앤드류': 1,\n",
              " '보고': 1,\n",
              " '근처': 1,\n",
              " '기억': 3,\n",
              " '생텀': 2,\n",
              " '도로': 1,\n",
              " '참여': 1,\n",
              " '다른': 4,\n",
              " '감독': 1,\n",
              " '진행': 1,\n",
              " '부작': 1,\n",
              " '노먼': 1,\n",
              " '시네마': 1,\n",
              " '관심': 1,\n",
              " '자유': 1,\n",
              " '플래시': 1,\n",
              " '차원': 2,\n",
              " '이상': 2,\n",
              " '등장': 1,\n",
              " '이마': 1,\n",
              " '케나': 1,\n",
              " '영어': 1,\n",
              " '자취': 1,\n",
              " '계획': 1,\n",
              " '로부터': 2,\n",
              " '레인지': 4,\n",
              " '좌절': 1,\n",
              " '고블린': 9,\n",
              " '저지': 1,\n",
              " '요원': 1,\n",
              " '호건': 1,\n",
              " '갑자기': 1,\n",
              " '프롬': 2,\n",
              " '한편': 1,\n",
              " '네드': 6,\n",
              " '평행우주': 2,\n",
              " '스윙': 1,\n",
              " '도피': 1,\n",
              " '이전': 1,\n",
              " '혼란': 1,\n",
              " '트레인': 8,\n",
              " '토비': 3,\n",
              " '자신': 8,\n",
              " '사람': 6,\n",
              " '대신': 1,\n",
              " '결과': 1,\n",
              " '활약': 1,\n",
              " '현장': 1,\n",
              " '신체': 1,\n",
              " '장보': 3,\n",
              " '닥터': 11,\n",
              " '과거': 1,\n",
              " '메이': 6,\n",
              " '요청': 1,\n",
              " '간다': 1,\n",
              " '뷰글': 2,\n",
              " '제임슨': 1,\n",
              " '재능': 1,\n",
              " '찾기': 1,\n",
              " '마법': 4,\n",
              " '이방인': 2,\n",
              " '리저드': 3,\n",
              " '고립': 1,\n",
              " '상처': 1,\n",
              " '촉구': 1,\n",
              " '라며': 1,\n",
              " '모든': 3,\n",
              " '미스테리': 2,\n",
              " '정체': 3}"
            ]
          },
          "metadata": {},
          "execution_count": 75
        }
      ]
    },
    {
      "cell_type": "code",
      "source": [
        "import matplotlib.pyplot as plt\n",
        "word_cloud_array = word_cloud.to_array()\n",
        "word_cloud_array.shape"
      ],
      "metadata": {
        "colab": {
          "base_uri": "https://localhost:8080/"
        },
        "id": "9sRtQXmMCRVC",
        "outputId": "2c07d9dd-68a6-4e71-8175-f20a94755a5f"
      },
      "execution_count": 76,
      "outputs": [
        {
          "output_type": "execute_result",
          "data": {
            "text/plain": [
              "(600, 1000, 3)"
            ]
          },
          "metadata": {},
          "execution_count": 76
        }
      ]
    },
    {
      "cell_type": "code",
      "source": [
        "plt.figure(figsize=(12, 6))\n",
        "plt.imshow(word_cloud_array)\n",
        "plt.axis('off') # 축 제거"
      ],
      "metadata": {
        "colab": {
          "base_uri": "https://localhost:8080/",
          "height": 375
        },
        "id": "catZY7HgCqV4",
        "outputId": "0fb6ba90-e647-461c-cdeb-73b4c5f55734"
      },
      "execution_count": 77,
      "outputs": [
        {
          "output_type": "execute_result",
          "data": {
            "text/plain": [
              "(-0.5, 999.5, 599.5, -0.5)"
            ]
          },
          "metadata": {},
          "execution_count": 77
        },
        {
          "output_type": "display_data",
          "data": {
            "text/plain": [
              "<Figure size 864x432 with 1 Axes>"
            ],
            "image/png": "[encoded data removed]"
          },
          "metadata": {
            "needs_background": "light"
          }
        }
      ]
    },
    {
      "cell_type": "markdown",
      "source": [
        "6. 여러 개의 영화별 비도 분석과 워드클라우드 만들기"
      ],
      "metadata": {
        "id": "Nk_6xDlsMuCD"
      }
    },
    {
      "cell_type": "code",
      "source": [
        "df.shape"
      ],
      "metadata": {
        "colab": {
          "base_uri": "https://localhost:8080/"
        },
        "id": "pwwupi5uLthe",
        "outputId": "72840e55-ba65-4278-8893-1e5ef54ad2c9"
      },
      "execution_count": 78,
      "outputs": [
        {
          "output_type": "execute_result",
          "data": {
            "text/plain": [
              "(146, 6)"
            ]
          },
          "metadata": {},
          "execution_count": 78
        }
      ]
    },
    {
      "cell_type": "code",
      "source": [
        "df_87 = df[(df['text'].apply(lambda x: len(x)) > 100)]\n",
        "df_87.reset_index(drop=True, inplace=True)\n",
        "df_87.shape"
      ],
      "metadata": {
        "id": "0SN3CLwoMsz9",
        "colab": {
          "base_uri": "https://localhost:8080/"
        },
        "outputId": "96589f95-9b89-4b22-8447-064cb246c833"
      },
      "execution_count": 79,
      "outputs": [
        {
          "output_type": "execute_result",
          "data": {
            "text/plain": [
              "(87, 6)"
            ]
          },
          "metadata": {},
          "execution_count": 79
        }
      ]
    },
    {
      "cell_type": "code",
      "source": [
        "df_87.head()"
      ],
      "metadata": {
        "id": "uLhizf6XECKG"
      },
      "execution_count": null,
      "outputs": []
    },
    {
      "cell_type": "code",
      "source": [
        "(df['text'].apply(lambda x: len(x)) > 100)\n",
        "#146개 각각의 경우에서 100단어 이상인 경우는 T 아니면 F"
      ],
      "metadata": {
        "colab": {
          "base_uri": "https://localhost:8080/"
        },
        "id": "--pAPZ3ekKfN",
        "outputId": "0065d4d4-6fad-4334-8440-638b38009c09"
      },
      "execution_count": 83,
      "outputs": [
        {
          "output_type": "execute_result",
          "data": {
            "text/plain": [
              "0       True\n",
              "1       True\n",
              "2       True\n",
              "3      False\n",
              "4       True\n",
              "       ...  \n",
              "141    False\n",
              "142     True\n",
              "143     True\n",
              "144     True\n",
              "145     True\n",
              "Name: text, Length: 146, dtype: bool"
            ]
          },
          "metadata": {},
          "execution_count": 83
        }
      ]
    },
    {
      "cell_type": "code",
      "source": [
        "len(df[(df['text'].apply(lambda x: len(x)) > 100)])\n",
        "#대괄호를 해주면 T인 것만 골라줌"
      ],
      "metadata": {
        "colab": {
          "base_uri": "https://localhost:8080/"
        },
        "id": "tfswCYj6kU-M",
        "outputId": "22255bb5-6175-4c21-f74b-04d49a8bad36"
      },
      "execution_count": 84,
      "outputs": [
        {
          "output_type": "execute_result",
          "data": {
            "text/plain": [
              "87"
            ]
          },
          "metadata": {},
          "execution_count": 84
        }
      ]
    },
    {
      "cell_type": "code",
      "source": [
        "tokens_list = []\n",
        "for i in range(len(df_87)):\n",
        "      tokens = okt.nouns(df_87['text'][i])\n",
        "      tokens_list.append(tokens)\n",
        "len(tokens_list)"
      ],
      "metadata": {
        "colab": {
          "base_uri": "https://localhost:8080/"
        },
        "id": "XlymmbJNkvAI",
        "outputId": "f8da1125-3fde-4280-feae-4566d3b13e7a"
      },
      "execution_count": 88,
      "outputs": [
        {
          "output_type": "execute_result",
          "data": {
            "text/plain": [
              "87"
            ]
          },
          "metadata": {},
          "execution_count": 88
        }
      ]
    },
    {
      "cell_type": "code",
      "source": [
        "tokens_list[1]"
      ],
      "metadata": {
        "id": "2GT13j4umNK9"
      },
      "execution_count": null,
      "outputs": []
    },
    {
      "cell_type": "code",
      "source": [
        "def get_word_count(tokens):\n",
        "    df_word_count = pd.DataFrame()\n",
        "    word_list = list(set(tokens))\n",
        "\n",
        "    word_cnt_list = []\n",
        "    word_cloud_dict = {}\n",
        "    for word in word_list:\n",
        "        word_cnt = tokens.count(word)\n",
        "        word_cnt_list.append(word_cnt)\n",
        "        if (len(word) == 1) | (word in ['영화','개봉']):\n",
        "            continue\n",
        "        word_cloud_dict[word] = word_cnt\n",
        "\n",
        "    df_word_count['word'] = word_list\n",
        "    df_word_count['word_cnt'] = word_cnt_list\n",
        "    df_word_count = df_word_count.sort_values('word_cnt', ascending = False)\n",
        "\n",
        "    return word_cloud_dict, df_word_count\n",
        "# 토큰을 입력값으로 받고, 출력값으로 단어별 빈도수가 있는 딕셔너리 단어빈도 테이블 얻음"
      ],
      "metadata": {
        "id": "zpHKv3ktmn_v"
      },
      "execution_count": 97,
      "outputs": []
    },
    {
      "cell_type": "code",
      "source": [
        "def save_word_cloud(word_cloud_dict, save_path):\n",
        "    word_cloud = WordCloud(font_path = font_path, width = 1000, height = 600)\n",
        "    word_cloud.generate_from_frequencies(word_cloud_dict)\n",
        "    word_cloud.to_file(save_path)\n",
        "  "
      ],
      "metadata": {
        "id": "9tvYbIJOoKUQ"
      },
      "execution_count": 98,
      "outputs": []
    },
    {
      "cell_type": "code",
      "source": [
        "for i, tokens in enumerate(tqdm(tokens_list)):\n",
        "    word_cloud_dict, df_word_count = get_word_count(tokens)\n",
        "    movie_name = str(df_87['영화명'][i]).replace(':',' ').replace('.','')\n",
        "    df_word_count.to_csv(ROOT_PATH + movie_name + '.csv')\n",
        "    save_path = ROOT_PATH + movie_name + '.png'\n",
        "    save_word_cloud(word_cloud_dict, save_path)"
      ],
      "metadata": {
        "colab": {
          "base_uri": "https://localhost:8080/"
        },
        "id": "pT-C5f3xq4uW",
        "outputId": "20092fac-0b46-4366-aded-3a52776a97e9"
      },
      "execution_count": 99,
      "outputs": [
        {
          "output_type": "stream",
          "name": "stderr",
          "text": [
            "100%|██████████| 87/87 [01:35<00:00,  1.10s/it]\n"
          ]
        }
      ]
    },
    {
      "cell_type": "code",
      "source": [
        " ROOT_PATH"
      ],
      "metadata": {
        "colab": {
          "base_uri": "https://localhost:8080/",
          "height": 35
        },
        "id": "9zcSBk8Ir5wX",
        "outputId": "9a9b466a-e5bc-47b5-9224-fe366684ab8b"
      },
      "execution_count": 96,
      "outputs": [
        {
          "output_type": "execute_result",
          "data": {
            "text/plain": [
              "'/gdrive/MyDrive/class101/'"
            ],
            "application/vnd.google.colaboratory.intrinsic+json": {
              "type": "string"
            }
          },
          "metadata": {},
          "execution_count": 96
        }
      ]
    },
    {
      "cell_type": "markdown",
      "source": [
        "7. 연도별 월별 영화 빈도분석과 워드클라우드"
      ],
      "metadata": {
        "id": "ecemo7Oowb0S"
      }
    },
    {
      "cell_type": "code",
      "source": [
        "df.info()"
      ],
      "metadata": {
        "colab": {
          "base_uri": "https://localhost:8080/"
        },
        "id": "sIasCD-Nvk1u",
        "outputId": "ab817ea1-8556-4616-8247-3f5b48a348f9"
      },
      "execution_count": 100,
      "outputs": [
        {
          "output_type": "stream",
          "name": "stdout",
          "text": [
            "<class 'pandas.core.frame.DataFrame'>\n",
            "RangeIndex: 146 entries, 0 to 145\n",
            "Data columns (total 6 columns):\n",
            " #   Column  Non-Null Count  Dtype         \n",
            "---  ------  --------------  -----         \n",
            " 0   순위      146 non-null    int64         \n",
            " 1   영화명     146 non-null    object        \n",
            " 2   개봉일     146 non-null    datetime64[ns]\n",
            " 3   개요      146 non-null    object        \n",
            " 4   줄거리     146 non-null    object        \n",
            " 5   text    146 non-null    object        \n",
            "dtypes: datetime64[ns](1), int64(1), object(4)\n",
            "memory usage: 7.0+ KB\n"
          ]
        }
      ]
    },
    {
      "cell_type": "code",
      "source": [
        "df['연도'] = df['개봉일'].apply(lambda x: x.year)\n",
        "df['월'] = df['개봉일'].apply(lambda x: x.month)\n",
        "df.head()"
      ],
      "metadata": {
        "colab": {
          "base_uri": "https://localhost:8080/",
          "height": 649
        },
        "id": "c7aavhWzwiN6",
        "outputId": "d9c59445-5387-4322-d036-49b1870c1040"
      },
      "execution_count": 101,
      "outputs": [
        {
          "output_type": "execute_result",
          "data": {
            "text/plain": [
              "   순위                영화명        개봉일  \\\n",
              "0   1      스파이더맨: 노 웨이 홈 2021-12-15   \n",
              "1   3               이터널스 2021-11-03   \n",
              "2   5    분노의 질주: 더 얼티메이트 2021-05-19   \n",
              "3   6                싱크홀 2021-08-11   \n",
              "4   7  극장판 귀멸의 칼날: 무한열차편 2021-01-27   \n",
              "\n",
              "                                                  개요  \\\n",
              "0  《스파이더맨: 노 웨이 홈》(영어: Spider-Man: No Way Home)은 ...   \n",
              "1  《이터널스》(영어: The Eternals)는 2021년 공개된 미국의 슈퍼히어로 ...   \n",
              "2  \"분노의 질주: 더 얼티메이트\"(영어: F9)는 2021년 공개된 미국의 액션 영화...   \n",
              "3                                                  -   \n",
              "4  《극장판 귀멸의 칼날: 무한열차편》(일본어: 劇場版「鬼滅の刃」無限列車編 영어: De...   \n",
              "\n",
              "                                                 줄거리  \\\n",
              "0  전작 《스파이더맨: 파 프롬 홈》에서 미스테리오가 스파이더맨이 살인자라고 누명을 씌...   \n",
              "1  데비안츠라는 괴물들로부터 인류를 지키고 인류를 진화시키기 위해 신과 같은 존재인 셀...   \n",
              "2  도미닉(빈 디젤)은 자신과 가장 가까웠던 형제 제이콥(존 시나)이 사이퍼(샤를리즈 ...   \n",
              "3                                                  -   \n",
              "4  혈귀술로 사람들을 잠에 빠뜨리는 오니인 엔무(하현 1)가 무한열차에 나타나 탑승자들...   \n",
              "\n",
              "                                                text    연도   월  \n",
              "0  《스파이더맨: 노 웨이 홈》(영어: Spider-Man: No Way Home)은 ...  2021  12  \n",
              "1  《이터널스》(영어: The Eternals)는 2021년 공개된 미국의 슈퍼히어로 ...  2021  11  \n",
              "2  \"분노의 질주: 더 얼티메이트\"(영어: F9)는 2021년 공개된 미국의 액션 영화...  2021   5  \n",
              "3                                                 --  2021   8  \n",
              "4  《극장판 귀멸의 칼날: 무한열차편》(일본어: 劇場版「鬼滅の刃」無限列車編 영어: De...  2021   1  "
            ],
            "text/html": [
              "\n",
              "  <div id=\"df-505e3a77-e7bf-4be8-9b35-91c2d71dd5f8\">\n",
              "    <div class=\"colab-df-container\">\n",
              "      <div>\n",
              "<style scoped>\n",
              "    .dataframe tbody tr th:only-of-type {\n",
              "        vertical-align: middle;\n",
              "    }\n",
              "\n",
              "    .dataframe tbody tr th {\n",
              "        vertical-align: top;\n",
              "    }\n",
              "\n",
              "    .dataframe thead th {\n",
              "        text-align: right;\n",
              "    }\n",
              "</style>\n",
              "<table border=\"1\" class=\"dataframe\">\n",
              "  <thead>\n",
              "    <tr style=\"text-align: right;\">\n",
              "      <th></th>\n",
              "      <th>순위</th>\n",
              "      <th>영화명</th>\n",
              "      <th>개봉일</th>\n",
              "      <th>개요</th>\n",
              "      <th>줄거리</th>\n",
              "      <th>text</th>\n",
              "      <th>연도</th>\n",
              "      <th>월</th>\n",
              "    </tr>\n",
              "  </thead>\n",
              "  <tbody>\n",
              "    <tr>\n",
              "      <th>0</th>\n",
              "      <td>1</td>\n",
              "      <td>스파이더맨: 노 웨이 홈</td>\n",
              "      <td>2021-12-15</td>\n",
              "      <td>《스파이더맨: 노 웨이 홈》(영어: Spider-Man: No Way Home)은 ...</td>\n",
              "      <td>전작 《스파이더맨: 파 프롬 홈》에서 미스테리오가 스파이더맨이 살인자라고 누명을 씌...</td>\n",
              "      <td>《스파이더맨: 노 웨이 홈》(영어: Spider-Man: No Way Home)은 ...</td>\n",
              "      <td>2021</td>\n",
              "      <td>12</td>\n",
              "    </tr>\n",
              "    <tr>\n",
              "      <th>1</th>\n",
              "      <td>3</td>\n",
              "      <td>이터널스</td>\n",
              "      <td>2021-11-03</td>\n",
              "      <td>《이터널스》(영어: The Eternals)는 2021년 공개된 미국의 슈퍼히어로 ...</td>\n",
              "      <td>데비안츠라는 괴물들로부터 인류를 지키고 인류를 진화시키기 위해 신과 같은 존재인 셀...</td>\n",
              "      <td>《이터널스》(영어: The Eternals)는 2021년 공개된 미국의 슈퍼히어로 ...</td>\n",
              "      <td>2021</td>\n",
              "      <td>11</td>\n",
              "    </tr>\n",
              "    <tr>\n",
              "      <th>2</th>\n",
              "      <td>5</td>\n",
              "      <td>분노의 질주: 더 얼티메이트</td>\n",
              "      <td>2021-05-19</td>\n",
              "      <td>\"분노의 질주: 더 얼티메이트\"(영어: F9)는 2021년 공개된 미국의 액션 영화...</td>\n",
              "      <td>도미닉(빈 디젤)은 자신과 가장 가까웠던 형제 제이콥(존 시나)이 사이퍼(샤를리즈 ...</td>\n",
              "      <td>\"분노의 질주: 더 얼티메이트\"(영어: F9)는 2021년 공개된 미국의 액션 영화...</td>\n",
              "      <td>2021</td>\n",
              "      <td>5</td>\n",
              "    </tr>\n",
              "    <tr>\n",
              "      <th>3</th>\n",
              "      <td>6</td>\n",
              "      <td>싱크홀</td>\n",
              "      <td>2021-08-11</td>\n",
              "      <td>-</td>\n",
              "      <td>-</td>\n",
              "      <td>--</td>\n",
              "      <td>2021</td>\n",
              "      <td>8</td>\n",
              "    </tr>\n",
              "    <tr>\n",
              "      <th>4</th>\n",
              "      <td>7</td>\n",
              "      <td>극장판 귀멸의 칼날: 무한열차편</td>\n",
              "      <td>2021-01-27</td>\n",
              "      <td>《극장판 귀멸의 칼날: 무한열차편》(일본어: 劇場版「鬼滅の刃」無限列車編 영어: De...</td>\n",
              "      <td>혈귀술로 사람들을 잠에 빠뜨리는 오니인 엔무(하현 1)가 무한열차에 나타나 탑승자들...</td>\n",
              "      <td>《극장판 귀멸의 칼날: 무한열차편》(일본어: 劇場版「鬼滅の刃」無限列車編 영어: De...</td>\n",
              "      <td>2021</td>\n",
              "      <td>1</td>\n",
              "    </tr>\n",
              "  </tbody>\n",
              "</table>\n",
              "</div>\n",
              "      <button class=\"colab-df-convert\" onclick=\"convertToInteractive('df-505e3a77-e7bf-4be8-9b35-91c2d71dd5f8')\"\n",
              "              title=\"Convert this dataframe to an interactive table.\"\n",
              "              style=\"display:none;\">\n",
              "        \n",
              "  <svg xmlns=\"http://www.w3.org/2000/svg\" height=\"24px\"viewBox=\"0 0 24 24\"\n",
              "       width=\"24px\">\n",
              "    <path d=\"M0 0h24v24H0V0z\" fill=\"none\"/>\n",
              "    <path d=\"M18.56 5.44l.94 2.06.94-2.06 2.06-.94-2.06-.94-.94-2.06-.94 2.06-2.06.94zm-11 1L8.5 8.5l.94-2.06 2.06-.94-2.06-.94L8.5 2.5l-.94 2.06-2.06.94zm10 10l.94 2.06.94-2.06 2.06-.94-2.06-.94-.94-2.06-.94 2.06-2.06.94z\"/><path d=\"M17.41 7.96l-1.37-1.37c-.4-.4-.92-.59-1.43-.59-.52 0-1.04.2-1.43.59L10.3 9.45l-7.72 7.72c-.78.78-.78 2.05 0 2.83L4 21.41c.39.39.9.59 1.41.59.51 0 1.02-.2 1.41-.59l7.78-7.78 2.81-2.81c.8-.78.8-2.07 0-2.86zM5.41 20L4 18.59l7.72-7.72 1.47 1.35L5.41 20z\"/>\n",
              "  </svg>\n",
              "      </button>\n",
              "      \n",
              "  <style>\n",
              "    .colab-df-container {\n",
              "      display:flex;\n",
              "      flex-wrap:wrap;\n",
              "      gap: 12px;\n",
              "    }\n",
              "\n",
              "    .colab-df-convert {\n",
              "      background-color: #E8F0FE;\n",
              "      border: none;\n",
              "      border-radius: 50%;\n",
              "      cursor: pointer;\n",
              "      display: none;\n",
              "      fill: #1967D2;\n",
              "      height: 32px;\n",
              "      padding: 0 0 0 0;\n",
              "      width: 32px;\n",
              "    }\n",
              "\n",
              "    .colab-df-convert:hover {\n",
              "      background-color: #E2EBFA;\n",
              "      box-shadow: 0px 1px 2px rgba(60, 64, 67, 0.3), 0px 1px 3px 1px rgba(60, 64, 67, 0.15);\n",
              "      fill: #174EA6;\n",
              "    }\n",
              "\n",
              "    [theme=dark] .colab-df-convert {\n",
              "      background-color: #3B4455;\n",
              "      fill: #D2E3FC;\n",
              "    }\n",
              "\n",
              "    [theme=dark] .colab-df-convert:hover {\n",
              "      background-color: #434B5C;\n",
              "      box-shadow: 0px 1px 3px 1px rgba(0, 0, 0, 0.15);\n",
              "      filter: drop-shadow(0px 1px 2px rgba(0, 0, 0, 0.3));\n",
              "      fill: #FFFFFF;\n",
              "    }\n",
              "  </style>\n",
              "\n",
              "      <script>\n",
              "        const buttonEl =\n",
              "          document.querySelector('#df-505e3a77-e7bf-4be8-9b35-91c2d71dd5f8 button.colab-df-convert');\n",
              "        buttonEl.style.display =\n",
              "          google.colab.kernel.accessAllowed ? 'block' : 'none';\n",
              "\n",
              "        async function convertToInteractive(key) {\n",
              "          const element = document.querySelector('#df-505e3a77-e7bf-4be8-9b35-91c2d71dd5f8');\n",
              "          const dataTable =\n",
              "            await google.colab.kernel.invokeFunction('convertToInteractive',\n",
              "                                                     [key], {});\n",
              "          if (!dataTable) return;\n",
              "\n",
              "          const docLinkHtml = 'Like what you see? Visit the ' +\n",
              "            '<a target=\"_blank\" href=https://colab.research.google.com/notebooks/data_table.ipynb>data table notebook</a>'\n",
              "            + ' to learn more about interactive tables.';\n",
              "          element.innerHTML = '';\n",
              "          dataTable['output_type'] = 'display_data';\n",
              "          await google.colab.output.renderOutput(dataTable, element);\n",
              "          const docLink = document.createElement('div');\n",
              "          docLink.innerHTML = docLinkHtml;\n",
              "          element.appendChild(docLink);\n",
              "        }\n",
              "      </script>\n",
              "    </div>\n",
              "  </div>\n",
              "  "
            ]
          },
          "metadata": {},
          "execution_count": 101
        }
      ]
    },
    {
      "cell_type": "code",
      "source": [
        "tokens = []\n",
        "for text in df['text'][df['연도'] == 2021]:\n",
        "    tmp = okt.nouns(text)\n",
        "    tokens.extend(tmp)"
      ],
      "metadata": {
        "id": "AKl-Cbn0w3vh"
      },
      "execution_count": 102,
      "outputs": []
    },
    {
      "cell_type": "code",
      "source": [
        "len(tokens)"
      ],
      "metadata": {
        "colab": {
          "base_uri": "https://localhost:8080/"
        },
        "id": "1nSO3-X3xQmV",
        "outputId": "94ad9ee0-acc1-495b-93c4-f0a9a48baaf0"
      },
      "execution_count": 105,
      "outputs": [
        {
          "output_type": "execute_result",
          "data": {
            "text/plain": [
              "4350"
            ]
          },
          "metadata": {},
          "execution_count": 105
        }
      ]
    },
    {
      "cell_type": "code",
      "source": [
        "word_cloud_dict, df_word_count = get_word_count(tokens)\n",
        "df_word_count.head(20)"
      ],
      "metadata": {
        "colab": {
          "base_uri": "https://localhost:8080/",
          "height": 676
        },
        "id": "Z1qCfbIzxSPr",
        "outputId": "e7b19d23-fe97-46af-8ae6-c793c72a505b"
      },
      "execution_count": 104,
      "outputs": [
        {
          "output_type": "execute_result",
          "data": {
            "text/plain": [
              "       word  word_cnt\n",
              "1577     자신        65\n",
              "217      크루        57\n",
              "609      엘라        57\n",
              "1434     남작        51\n",
              "1556    에스텔        51\n",
              "1493      그        48\n",
              "649      부인        40\n",
              "1175      것        37\n",
              "355      피터        34\n",
              "1111      조        29\n",
              "312   스파이더맨        29\n",
              "360      위해        28\n",
              "1503      의        26\n",
              "1019     영화        26\n",
              "84        콩        26\n",
              "755       이        26\n",
              "1034      스        25\n",
              "1511    어머니        25\n",
              "771     고질라        24\n",
              "679      개봉        21"
            ],
            "text/html": [
              "\n",
              "  <div id=\"df-eccace00-c60b-4754-b043-8b3e5aac6ed6\">\n",
              "    <div class=\"colab-df-container\">\n",
              "      <div>\n",
              "<style scoped>\n",
              "    .dataframe tbody tr th:only-of-type {\n",
              "        vertical-align: middle;\n",
              "    }\n",
              "\n",
              "    .dataframe tbody tr th {\n",
              "        vertical-align: top;\n",
              "    }\n",
              "\n",
              "    .dataframe thead th {\n",
              "        text-align: right;\n",
              "    }\n",
              "</style>\n",
              "<table border=\"1\" class=\"dataframe\">\n",
              "  <thead>\n",
              "    <tr style=\"text-align: right;\">\n",
              "      <th></th>\n",
              "      <th>word</th>\n",
              "      <th>word_cnt</th>\n",
              "    </tr>\n",
              "  </thead>\n",
              "  <tbody>\n",
              "    <tr>\n",
              "      <th>1577</th>\n",
              "      <td>자신</td>\n",
              "      <td>65</td>\n",
              "    </tr>\n",
              "    <tr>\n",
              "      <th>217</th>\n",
              "      <td>크루</td>\n",
              "      <td>57</td>\n",
              "    </tr>\n",
              "    <tr>\n",
              "      <th>609</th>\n",
              "      <td>엘라</td>\n",
              "      <td>57</td>\n",
              "    </tr>\n",
              "    <tr>\n",
              "      <th>1434</th>\n",
              "      <td>남작</td>\n",
              "      <td>51</td>\n",
              "    </tr>\n",
              "    <tr>\n",
              "      <th>1556</th>\n",
              "      <td>에스텔</td>\n",
              "      <td>51</td>\n",
              "    </tr>\n",
              "    <tr>\n",
              "      <th>1493</th>\n",
              "      <td>그</td>\n",
              "      <td>48</td>\n",
              "    </tr>\n",
              "    <tr>\n",
              "      <th>649</th>\n",
              "      <td>부인</td>\n",
              "      <td>40</td>\n",
              "    </tr>\n",
              "    <tr>\n",
              "      <th>1175</th>\n",
              "      <td>것</td>\n",
              "      <td>37</td>\n",
              "    </tr>\n",
              "    <tr>\n",
              "      <th>355</th>\n",
              "      <td>피터</td>\n",
              "      <td>34</td>\n",
              "    </tr>\n",
              "    <tr>\n",
              "      <th>1111</th>\n",
              "      <td>조</td>\n",
              "      <td>29</td>\n",
              "    </tr>\n",
              "    <tr>\n",
              "      <th>312</th>\n",
              "      <td>스파이더맨</td>\n",
              "      <td>29</td>\n",
              "    </tr>\n",
              "    <tr>\n",
              "      <th>360</th>\n",
              "      <td>위해</td>\n",
              "      <td>28</td>\n",
              "    </tr>\n",
              "    <tr>\n",
              "      <th>1503</th>\n",
              "      <td>의</td>\n",
              "      <td>26</td>\n",
              "    </tr>\n",
              "    <tr>\n",
              "      <th>1019</th>\n",
              "      <td>영화</td>\n",
              "      <td>26</td>\n",
              "    </tr>\n",
              "    <tr>\n",
              "      <th>84</th>\n",
              "      <td>콩</td>\n",
              "      <td>26</td>\n",
              "    </tr>\n",
              "    <tr>\n",
              "      <th>755</th>\n",
              "      <td>이</td>\n",
              "      <td>26</td>\n",
              "    </tr>\n",
              "    <tr>\n",
              "      <th>1034</th>\n",
              "      <td>스</td>\n",
              "      <td>25</td>\n",
              "    </tr>\n",
              "    <tr>\n",
              "      <th>1511</th>\n",
              "      <td>어머니</td>\n",
              "      <td>25</td>\n",
              "    </tr>\n",
              "    <tr>\n",
              "      <th>771</th>\n",
              "      <td>고질라</td>\n",
              "      <td>24</td>\n",
              "    </tr>\n",
              "    <tr>\n",
              "      <th>679</th>\n",
              "      <td>개봉</td>\n",
              "      <td>21</td>\n",
              "    </tr>\n",
              "  </tbody>\n",
              "</table>\n",
              "</div>\n",
              "      <button class=\"colab-df-convert\" onclick=\"convertToInteractive('df-eccace00-c60b-4754-b043-8b3e5aac6ed6')\"\n",
              "              title=\"Convert this dataframe to an interactive table.\"\n",
              "              style=\"display:none;\">\n",
              "        \n",
              "  <svg xmlns=\"http://www.w3.org/2000/svg\" height=\"24px\"viewBox=\"0 0 24 24\"\n",
              "       width=\"24px\">\n",
              "    <path d=\"M0 0h24v24H0V0z\" fill=\"none\"/>\n",
              "    <path d=\"M18.56 5.44l.94 2.06.94-2.06 2.06-.94-2.06-.94-.94-2.06-.94 2.06-2.06.94zm-11 1L8.5 8.5l.94-2.06 2.06-.94-2.06-.94L8.5 2.5l-.94 2.06-2.06.94zm10 10l.94 2.06.94-2.06 2.06-.94-2.06-.94-.94-2.06-.94 2.06-2.06.94z\"/><path d=\"M17.41 7.96l-1.37-1.37c-.4-.4-.92-.59-1.43-.59-.52 0-1.04.2-1.43.59L10.3 9.45l-7.72 7.72c-.78.78-.78 2.05 0 2.83L4 21.41c.39.39.9.59 1.41.59.51 0 1.02-.2 1.41-.59l7.78-7.78 2.81-2.81c.8-.78.8-2.07 0-2.86zM5.41 20L4 18.59l7.72-7.72 1.47 1.35L5.41 20z\"/>\n",
              "  </svg>\n",
              "      </button>\n",
              "      \n",
              "  <style>\n",
              "    .colab-df-container {\n",
              "      display:flex;\n",
              "      flex-wrap:wrap;\n",
              "      gap: 12px;\n",
              "    }\n",
              "\n",
              "    .colab-df-convert {\n",
              "      background-color: #E8F0FE;\n",
              "      border: none;\n",
              "      border-radius: 50%;\n",
              "      cursor: pointer;\n",
              "      display: none;\n",
              "      fill: #1967D2;\n",
              "      height: 32px;\n",
              "      padding: 0 0 0 0;\n",
              "      width: 32px;\n",
              "    }\n",
              "\n",
              "    .colab-df-convert:hover {\n",
              "      background-color: #E2EBFA;\n",
              "      box-shadow: 0px 1px 2px rgba(60, 64, 67, 0.3), 0px 1px 3px 1px rgba(60, 64, 67, 0.15);\n",
              "      fill: #174EA6;\n",
              "    }\n",
              "\n",
              "    [theme=dark] .colab-df-convert {\n",
              "      background-color: #3B4455;\n",
              "      fill: #D2E3FC;\n",
              "    }\n",
              "\n",
              "    [theme=dark] .colab-df-convert:hover {\n",
              "      background-color: #434B5C;\n",
              "      box-shadow: 0px 1px 3px 1px rgba(0, 0, 0, 0.15);\n",
              "      filter: drop-shadow(0px 1px 2px rgba(0, 0, 0, 0.3));\n",
              "      fill: #FFFFFF;\n",
              "    }\n",
              "  </style>\n",
              "\n",
              "      <script>\n",
              "        const buttonEl =\n",
              "          document.querySelector('#df-eccace00-c60b-4754-b043-8b3e5aac6ed6 button.colab-df-convert');\n",
              "        buttonEl.style.display =\n",
              "          google.colab.kernel.accessAllowed ? 'block' : 'none';\n",
              "\n",
              "        async function convertToInteractive(key) {\n",
              "          const element = document.querySelector('#df-eccace00-c60b-4754-b043-8b3e5aac6ed6');\n",
              "          const dataTable =\n",
              "            await google.colab.kernel.invokeFunction('convertToInteractive',\n",
              "                                                     [key], {});\n",
              "          if (!dataTable) return;\n",
              "\n",
              "          const docLinkHtml = 'Like what you see? Visit the ' +\n",
              "            '<a target=\"_blank\" href=https://colab.research.google.com/notebooks/data_table.ipynb>data table notebook</a>'\n",
              "            + ' to learn more about interactive tables.';\n",
              "          element.innerHTML = '';\n",
              "          dataTable['output_type'] = 'display_data';\n",
              "          await google.colab.output.renderOutput(dataTable, element);\n",
              "          const docLink = document.createElement('div');\n",
              "          docLink.innerHTML = docLinkHtml;\n",
              "          element.appendChild(docLink);\n",
              "        }\n",
              "      </script>\n",
              "    </div>\n",
              "  </div>\n",
              "  "
            ]
          },
          "metadata": {},
          "execution_count": 104
        }
      ]
    },
    {
      "cell_type": "code",
      "source": [
        "word_cloud.generate_from_frequencies(word_cloud_dict)\n",
        "word_cloud_array = word_cloud.to_array()\n",
        "plt.figure(figsize=(12,6))\n",
        "plt.imshow(word_cloud_array)\n",
        "plt.axis('off') # 축 제거"
      ],
      "metadata": {
        "colab": {
          "base_uri": "https://localhost:8080/",
          "height": 375
        },
        "id": "38rPmwbkxxE5",
        "outputId": "c46184ff-601c-44d5-d464-327a673421b1"
      },
      "execution_count": 106,
      "outputs": [
        {
          "output_type": "execute_result",
          "data": {
            "text/plain": [
              "(-0.5, 999.5, 599.5, -0.5)"
            ]
          },
          "metadata": {},
          "execution_count": 106
        },
        {
          "output_type": "display_data",
          "data": {
            "text/plain": [
              "<Figure size 864x432 with 1 Axes>"
            ],
            "image/png": "[encoded data removed]"
          },
          "metadata": {
            "needs_background": "light"
          }
        }
      ]
    },
    {
      "cell_type": "code",
      "source": [
        "for year in df['연도'].unique():\n",
        "    tokens = []\n",
        "    for text in df['text'][df['연도'] == year]:\n",
        "        tmp = okt.nouns(text)\n",
        "        tokens.extend(tmp)\n",
        "\n",
        "    word_cloud_dict, df_word_count = get_word_count(tokens)\n",
        "    df_word_count.to_csv(ROOT_PATH + '연도별/' + str(year) + '.csv')\n",
        "    save_path = ROOT_PATH + '연도별/' + str(year) + '.png'\n",
        "    save_word_cloud(word_cloud_dict, save_path)"
      ],
      "metadata": {
        "id": "j2nAku2DyNN5"
      },
      "execution_count": 108,
      "outputs": []
    },
    {
      "cell_type": "code",
      "source": [
        "df['연도'].unique()"
      ],
      "metadata": {
        "colab": {
          "base_uri": "https://localhost:8080/"
        },
        "id": "duu9pjMLzNL2",
        "outputId": "4c8fafec-1d18-419c-e4ae-8857ab3d308e"
      },
      "execution_count": 109,
      "outputs": [
        {
          "output_type": "execute_result",
          "data": {
            "text/plain": [
              "array([2021, 2020, 2019, 2018, 2017])"
            ]
          },
          "metadata": {},
          "execution_count": 109
        }
      ]
    },
    {
      "cell_type": "code",
      "source": [
        "df['월'].unique()"
      ],
      "metadata": {
        "colab": {
          "base_uri": "https://localhost:8080/"
        },
        "id": "j3UIwAswzUsd",
        "outputId": "4707051d-63d4-406b-d580-4b437822b3b9"
      },
      "execution_count": 110,
      "outputs": [
        {
          "output_type": "execute_result",
          "data": {
            "text/plain": [
              "array([12, 11,  5,  8,  1, 10,  9,  3,  6,  7,  2,  4])"
            ]
          },
          "metadata": {},
          "execution_count": 110
        }
      ]
    },
    {
      "cell_type": "code",
      "source": [
        "len(df['월'].unique())"
      ],
      "metadata": {
        "colab": {
          "base_uri": "https://localhost:8080/"
        },
        "id": "kNN4Q5yJz-EQ",
        "outputId": "c385822c-a7b2-482f-c2d0-e63afb2a084f"
      },
      "execution_count": 111,
      "outputs": [
        {
          "output_type": "execute_result",
          "data": {
            "text/plain": [
              "12"
            ]
          },
          "metadata": {},
          "execution_count": 111
        }
      ]
    },
    {
      "cell_type": "code",
      "source": [
        "for month in df['월'].unique():\n",
        "    tokens = []\n",
        "    for text in df['text'][df['월'] == month]:\n",
        "        tmp = okt.nouns(text)\n",
        "        tokens.extend(tmp)\n",
        "\n",
        "    word_cloud_dict, df_word_count = get_word_count(tokens)\n",
        "    df_word_count.to_csv(ROOT_PATH + '월별/' + str(month) + '.csv')\n",
        "    save_path = ROOT_PATH + '월별/' + str(month) + '.png'\n",
        "    save_word_cloud(word_cloud_dict, save_path)"
      ],
      "metadata": {
        "id": "R4tXtB8p0HEC"
      },
      "execution_count": 112,
      "outputs": []
    },
    {
      "cell_type": "code",
      "source": [],
      "metadata": {
        "id": "KRik7vQa0cx1"
      },
      "execution_count": null,
      "outputs": []
    }
  ]
}